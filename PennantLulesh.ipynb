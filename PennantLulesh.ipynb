{
 "cells": [
  {
   "cell_type": "code",
   "execution_count": 1,
   "metadata": {},
   "outputs": [
    {
     "data": {
      "text/markdown": [
       "\n",
       "# PENNANT and LULESH \n"
      ],
      "text/plain": [
       "<IPython.core.display.Markdown object>"
      ]
     },
     "metadata": {},
     "output_type": "display_data"
    }
   ],
   "source": [
    "%%markdown\n",
    "\n",
    "# PENNANT and LULESH "
   ]
  },
  {
   "cell_type": "code",
   "execution_count": 2,
   "metadata": {},
   "outputs": [],
   "source": [
    "import sveCacheSim as sim\n",
    "import CacheModels\n",
    "import matplotlib.pyplot as plt\n",
    "import numpy as np\n",
    "import pandas as pd\n",
    "import pickle\n",
    "from tqdm import tqdm\n",
    "import importlib\n",
    "importlib.reload(sim)\n",
    "pass"
   ]
  },
  {
   "cell_type": "code",
   "execution_count": 3,
   "metadata": {},
   "outputs": [
    {
     "data": {
      "text/markdown": [
       "\n",
       "## Meabo Traces\n",
       "\n",
       "Before we run any simulations, we should take a look at what our phase detector is doing with the traces we give it. \n",
       "We'll run some simulations now, but we won't worry about the stats. We'll just grab the phase trace that gets included with the stats. \n",
       "As we are passing `None` as the first argument, these simulations will not do any model swapping. (Of course, model swapping does not affect the phase trace anyways.)\n",
       "\n",
       "### Meabo Changes\n",
       "\n",
       "For those of you familiar with Meabo, you'll notice a few changes. The first, mentioned above, is that we added a `-L` argument to allow users\n",
       "to run each phase multiple times. The second is that we added a marker phase between the Meabo phases so we can be totally sure that we \n",
       "know that our phase detection is working. This phase is designed to write over a small location a few times, so it should be essentially 100% write hits. \n"
      ],
      "text/plain": [
       "<IPython.core.display.Markdown object>"
      ]
     },
     "metadata": {},
     "output_type": "display_data"
    }
   ],
   "source": [
    "%%markdown\n",
    "\n",
    "## Meabo Traces\n",
    "\n",
    "Before we run any simulations, we should take a look at what our phase detector is doing with the traces we give it. \n",
    "We'll run some simulations now, but we won't worry about the stats. We'll just grab the phase trace that gets included with the stats. \n",
    "As we are passing `None` as the first argument, these simulations will not do any model swapping. (Of course, model swapping does not affect the phase trace anyways.)\n",
    "\n",
    "### Meabo Changes\n",
    "\n",
    "For those of you familiar with Meabo, you'll notice a few changes. The first, mentioned above, is that we added a `-L` argument to allow users\n",
    "to run each phase multiple times. The second is that we added a marker phase between the Meabo phases so we can be totally sure that we \n",
    "know that our phase detection is working. This phase is designed to write over a small location a few times, so it should be essentially 100% write hits. \n"
   ]
  },
  {
   "cell_type": "code",
   "execution_count": null,
   "metadata": {},
   "outputs": [],
   "source": [
    "#stats_small, _  = sim.simulation(None, trace_id='small',  show_summary=False)\n",
    "#stats_medium, _ = sim.simulation(None, trace_id='medium', show_summary=False)\n",
    "#stats_large, _  = sim.simulation(None, trace_id='large',  show_summary=False)\n",
    "pennant_small  = sim.load_object('DataV3/pennant_small-BASE.pkl')\n",
    "pennant_medium = sim.load_object('DataV3/pennant_medium-BASE.pkl')\n",
    "pennant_large  = sim.load_object('DataV3/pennant_large-BASE.pkl')\n",
    "lulesh_small  = sim.load_object('DataV3/lulesh_small-BASE.pkl')\n",
    "lulesh_medium = sim.load_object('DataV3/lulesh_medium-BASE.pkl')\n",
    "lulesh_large  = sim.load_object('DataV3/lulesh_large-BASE.pkl')"
   ]
  },
  {
   "cell_type": "code",
   "execution_count": 17,
   "metadata": {},
   "outputs": [],
   "source": [
    "pennant_large_model = {}\n",
    "pennant_large_model['BASE'] = sim.load_object('DataV3/pennant_large-BASE.pkl')\n",
    "pennant_large_model['FR'] = sim.load_object('DataV3/pennant_large-FR.pkl')\n",
    "pennant_large_model['M4'] = sim.load_object('DataV3/pennant_large-M4.pkl')\n",
    "pennant_large_model['M8'] = sim.load_object('DataV3/pennant_large-M8.pkl')\n",
    "pennant_large_model['ALL'] = sim.load_object('DataV3/pennant_large-ALL.pkl')"
   ]
  },
  {
   "cell_type": "code",
   "execution_count": 18,
   "metadata": {},
   "outputs": [
    {
     "ename": "FileNotFoundError",
     "evalue": "[Errno 2] No such file or directory: 'DataV3/lulesh_large-M8.pkl'",
     "output_type": "error",
     "traceback": [
      "\u001b[0;31m---------------------------------------------------------------------------\u001b[0m",
      "\u001b[0;31mFileNotFoundError\u001b[0m                         Traceback (most recent call last)",
      "\u001b[0;32m<ipython-input-18-23b5ea84f4e8>\u001b[0m in \u001b[0;36m<module>\u001b[0;34m\u001b[0m\n\u001b[1;32m      3\u001b[0m \u001b[0mlulesh_large_model\u001b[0m\u001b[0;34m[\u001b[0m\u001b[0;34m'FR'\u001b[0m\u001b[0;34m]\u001b[0m \u001b[0;34m=\u001b[0m \u001b[0msim\u001b[0m\u001b[0;34m.\u001b[0m\u001b[0mload_object\u001b[0m\u001b[0;34m(\u001b[0m\u001b[0;34m'DataV3/lulesh_large-FR.pkl'\u001b[0m\u001b[0;34m)\u001b[0m\u001b[0;34m\u001b[0m\u001b[0;34m\u001b[0m\u001b[0m\n\u001b[1;32m      4\u001b[0m \u001b[0mlulesh_large_model\u001b[0m\u001b[0;34m[\u001b[0m\u001b[0;34m'M4'\u001b[0m\u001b[0;34m]\u001b[0m \u001b[0;34m=\u001b[0m \u001b[0msim\u001b[0m\u001b[0;34m.\u001b[0m\u001b[0mload_object\u001b[0m\u001b[0;34m(\u001b[0m\u001b[0;34m'DataV3/lulesh_large-M4.pkl'\u001b[0m\u001b[0;34m)\u001b[0m\u001b[0;34m\u001b[0m\u001b[0;34m\u001b[0m\u001b[0m\n\u001b[0;32m----> 5\u001b[0;31m \u001b[0mlulesh_large_model\u001b[0m\u001b[0;34m[\u001b[0m\u001b[0;34m'M8'\u001b[0m\u001b[0;34m]\u001b[0m \u001b[0;34m=\u001b[0m \u001b[0msim\u001b[0m\u001b[0;34m.\u001b[0m\u001b[0mload_object\u001b[0m\u001b[0;34m(\u001b[0m\u001b[0;34m'DataV3/lulesh_large-M8.pkl'\u001b[0m\u001b[0;34m)\u001b[0m\u001b[0;34m\u001b[0m\u001b[0;34m\u001b[0m\u001b[0m\n\u001b[0m\u001b[1;32m      6\u001b[0m \u001b[0mlulesh_large_model\u001b[0m\u001b[0;34m[\u001b[0m\u001b[0;34m'ALL'\u001b[0m\u001b[0;34m]\u001b[0m \u001b[0;34m=\u001b[0m \u001b[0msim\u001b[0m\u001b[0;34m.\u001b[0m\u001b[0mload_object\u001b[0m\u001b[0;34m(\u001b[0m\u001b[0;34m'DataV3/lulesh_large-ALL.pkl'\u001b[0m\u001b[0;34m)\u001b[0m\u001b[0;34m\u001b[0m\u001b[0;34m\u001b[0m\u001b[0m\n",
      "\u001b[0;32m/storage/hive/project/coc-young/plavin3/ModelSwapping/sveCacheSim.py\u001b[0m in \u001b[0;36mload_object\u001b[0;34m(filename)\u001b[0m\n\u001b[1;32m    375\u001b[0m \u001b[0;34m\u001b[0m\u001b[0m\n\u001b[1;32m    376\u001b[0m \u001b[0;32mdef\u001b[0m \u001b[0mload_object\u001b[0m\u001b[0;34m(\u001b[0m\u001b[0mfilename\u001b[0m\u001b[0;34m)\u001b[0m\u001b[0;34m:\u001b[0m\u001b[0;34m\u001b[0m\u001b[0;34m\u001b[0m\u001b[0m\n\u001b[0;32m--> 377\u001b[0;31m     \u001b[0;32mwith\u001b[0m \u001b[0;34m(\u001b[0m\u001b[0mopen\u001b[0m\u001b[0;34m(\u001b[0m\u001b[0mfilename\u001b[0m\u001b[0;34m,\u001b[0m \u001b[0;34m\"rb\"\u001b[0m\u001b[0;34m)\u001b[0m\u001b[0;34m)\u001b[0m \u001b[0;32mas\u001b[0m \u001b[0mfile\u001b[0m\u001b[0;34m:\u001b[0m\u001b[0;34m\u001b[0m\u001b[0;34m\u001b[0m\u001b[0m\n\u001b[0m\u001b[1;32m    378\u001b[0m         \u001b[0;32mreturn\u001b[0m \u001b[0mpickle\u001b[0m\u001b[0;34m.\u001b[0m\u001b[0mload\u001b[0m\u001b[0;34m(\u001b[0m\u001b[0mfile\u001b[0m\u001b[0;34m)\u001b[0m\u001b[0;34m\u001b[0m\u001b[0;34m\u001b[0m\u001b[0m\n\u001b[1;32m    379\u001b[0m \u001b[0;34m\u001b[0m\u001b[0m\n",
      "\u001b[0;31mFileNotFoundError\u001b[0m: [Errno 2] No such file or directory: 'DataV3/lulesh_large-M8.pkl'"
     ]
    }
   ],
   "source": [
    "lulesh_large_model = {}\n",
    "lulesh_large_model['BASE'] = sim.load_object('DataV3/lulesh_large-BASE.pkl')\n",
    "lulesh_large_model['FR'] = sim.load_object('DataV3/lulesh_large-FR.pkl')\n",
    "lulesh\n",
    "_large_model['M4'] = sim.load_object('DataV3/lulesh_large-M4.pkl')\n",
    "lulesh_large_model['M8'] = sim.load_object('DataV3/lulesh_large-M8.pkl')\n",
    "lulesh_large_model['ALL'] = sim.load_object('DataV3/lulesh_large-ALL.pkl')"
   ]
  },
  {
   "cell_type": "code",
   "execution_count": 27,
   "metadata": {},
   "outputs": [
    {
     "data": {
      "text/markdown": [
       "\n",
       "### Phase Trace Object\n",
       "We first need to grab the phase trace object from the stats of our simulation. It is stored in `stats_*.phase_trace`. This object\n",
       "has type `PhaseTrace` which is defined in `PhaseDetector.py` and includes 4 fields.\n",
       "\n",
       "* `trace`: The phase assigned to each interval. -1 represents an interval not identified as part of a phase. \n",
       "* `nphases`: The number of unique phases identified.\n",
       "* `phase_count`: A list of length nphases where phase_count[i] is the number of intervals assigned to phase i\n",
       "* `phase_unique`: A list of length nphases where phase_unique[i] is the number of times phase i was entered\n",
       "\n",
       "Let's take a look at these for the 'large' trace. \n"
      ],
      "text/plain": [
       "<IPython.core.display.Markdown object>"
      ]
     },
     "metadata": {},
     "output_type": "display_data"
    }
   ],
   "source": [
    "%%markdown\n",
    "\n",
    "### Phase Trace Object\n",
    "We first need to grab the phase trace object from the stats of our simulation. It is stored in `stats_*.phase_trace`. This object\n",
    "has type `PhaseTrace` which is defined in `PhaseDetector.py` and includes 4 fields.\n",
    "\n",
    "* `trace`: The phase assigned to each interval. -1 represents an interval not identified as part of a phase. \n",
    "* `nphases`: The number of unique phases identified.\n",
    "* `phase_count`: A list of length nphases where phase_count[i] is the number of intervals assigned to phase i\n",
    "* `phase_unique`: A list of length nphases where phase_unique[i] is the number of times phase i was entered\n",
    "\n",
    "Let's take a look at these for the 'large' trace. "
   ]
  },
  {
   "cell_type": "code",
   "execution_count": 16,
   "metadata": {
    "scrolled": true
   },
   "outputs": [
    {
     "name": "stdout",
     "output_type": "stream",
     "text": [
      "Identified 4 phases\n",
      "Number of intervals assigned to each phase [36, 9, 20, 1007]\n",
      "Number of times each phase was entered [1, 2, 1, 124]\n"
     ]
    }
   ],
   "source": [
    "trace = pennant_large.phase_trace\n",
    "print('Identified', trace.nphases, 'phases')\n",
    "print('Number of intervals assigned to each phase', trace.phase_count)\n",
    "print('Number of times each phase was entered', trace.phase_unique)"
   ]
  },
  {
   "cell_type": "code",
   "execution_count": 10,
   "metadata": {},
   "outputs": [
    {
     "name": "stdout",
     "output_type": "stream",
     "text": [
      "Identified 10 phases\n",
      "Number of intervals assigned to each phase [35, 14, 3244, 1268, 774, 414, 843, 637, 126, 181]\n",
      "Number of times each phase was entered [1, 1, 30, 30, 30, 80, 10, 55, 22, 3]\n"
     ]
    }
   ],
   "source": [
    "trace = lulesh_large.phase_trace\n",
    "print('Identified', trace.nphases, 'phases')\n",
    "print('Number of intervals assigned to each phase', trace.phase_count)\n",
    "print('Number of times each phase was entered', trace.phase_unique)"
   ]
  },
  {
   "cell_type": "code",
   "execution_count": 40,
   "metadata": {},
   "outputs": [
    {
     "data": {
      "text/markdown": [
       "\n",
       "This looks good, as we expect each of our three Meabo phases to be entered 3 times which is what we see in the `phase_unique` data. \n",
       "\n",
       "### Phase Plot\n",
       "\n",
       "We should take a look at the trace itself. Let's plot the phase traces for each of the traces.\n"
      ],
      "text/plain": [
       "<IPython.core.display.Markdown object>"
      ]
     },
     "metadata": {},
     "output_type": "display_data"
    }
   ],
   "source": [
    "%%markdown\n",
    "\n",
    "This looks good, as we expect each of our three Meabo phases to be entered 3 times which is what we see in the `phase_unique` data. \n",
    "\n",
    "### Phase Plot\n",
    "\n",
    "We should take a look at the trace itself. Let's plot the phase traces for each of the traces."
   ]
  },
  {
   "cell_type": "code",
   "execution_count": 14,
   "metadata": {},
   "outputs": [
    {
     "data": {
      "image/png": "[encoded data removed]",
      "text/plain": [
       "<Figure size 1152x288 with 3 Axes>"
      ]
     },
     "metadata": {
      "needs_background": "light"
     },
     "output_type": "display_data"
    }
   ],
   "source": [
    "trace_small  = pennant_small.phase_trace.trace\n",
    "trace_medium = pennant_medium.phase_trace.trace\n",
    "trace_large  = pennant_large.phase_trace.trace\n",
    "\n",
    "def plot_trace(ax, label, trace, axis_labels):\n",
    "    ax.scatter([*range(len(trace))], trace,s=2, color='red')\n",
    "    ax.spines['top'].set_visible(False)\n",
    "    ax.spines['right'].set_visible(False)\n",
    "    ax.set_title(label)\n",
    "    if axis_labels:\n",
    "        ax.set_ylabel('Phase Number (-1 is uncategorized)')\n",
    "        ax.set_xlabel('Interval number (Interval = 10k inst)')\n",
    "\n",
    "fig, ax = plt.subplots(1, 3, figsize=(16,4))\n",
    "plot_trace(ax[0], 'Small',  trace_small,  True)\n",
    "plot_trace(ax[1], 'Medium', trace_medium, False)\n",
    "plot_trace(ax[2], 'Large',  trace_large,  False)\n",
    "#plt.savefig('plots/phase-traces.svg')\n",
    "plt.show()"
   ]
  },
  {
   "cell_type": "code",
   "execution_count": 13,
   "metadata": {},
   "outputs": [
    {
     "data": {
      "image/png": "[encoded data removed]",
      "text/plain": [
       "<Figure size 1152x288 with 3 Axes>"
      ]
     },
     "metadata": {
      "needs_background": "light"
     },
     "output_type": "display_data"
    }
   ],
   "source": [
    "trace_small  = lulesh_small.phase_trace.trace\n",
    "trace_medium = lulesh_medium.phase_trace.trace\n",
    "trace_large  = lulesh_large.phase_trace.trace\n",
    "\n",
    "def plot_trace(ax, label, trace, axis_labels):\n",
    "    ax.scatter([*range(len(trace))], trace,s=2, color='red')\n",
    "    ax.spines['top'].set_visible(False)\n",
    "    ax.spines['right'].set_visible(False)\n",
    "    ax.set_title(label)\n",
    "    if axis_labels:\n",
    "        ax.set_ylabel('Phase Number (-1 is uncategorized)')\n",
    "        ax.set_xlabel('Interval number (Interval = 10k inst)')\n",
    "\n",
    "fig, ax = plt.subplots(1, 3, figsize=(16,4))\n",
    "plot_trace(ax[0], 'Small',  trace_small,  True)\n",
    "plot_trace(ax[1], 'Medium', trace_medium, False)\n",
    "plot_trace(ax[2], 'Large',  trace_large,  False)\n",
    "#plt.savefig('plots/phase-traces.svg')\n",
    "plt.show()"
   ]
  },
  {
   "cell_type": "code",
   "execution_count": 57,
   "metadata": {},
   "outputs": [
    {
     "data": {
      "text/markdown": [
       "\n",
       "We see above that our marker phase is identified as phase 1 each time and the Meabo phases (2, 3, 4) are run the expected number of times\n",
       "int each trace. It is hard to tell from the scale here, but the Meabo phases in the Large trace run longer than in the other two.  \n",
       "\n",
       "## Accuracy Study\n",
       "\n",
       "It's time to actually look at the results of our simulation. We'll be looking at four different cache models, \n",
       "* `FixedHitRate`\n",
       "* `Markov4`\n",
       "* `Markov8`\n",
       "* `All`\n",
       "\n",
       "The first three will train the same type of model for each phase. The last model will train all of the previous three for each phase, \n",
       "then pick between them. \n",
       "\n",
       "We have already run the base model, so well stick that in our dictionary, and run the rest. Let's view the summary for these models as they run.\n"
      ],
      "text/plain": [
       "<IPython.core.display.Markdown object>"
      ]
     },
     "metadata": {},
     "output_type": "display_data"
    }
   ],
   "source": [
    "%%markdown\n",
    "\n",
    "We see above that our marker phase is identified as phase 1 each time and the Meabo phases (2, 3, 4) are run the expected number of times\n",
    "int each trace. It is hard to tell from the scale here, but the Meabo phases in the Large trace run longer than in the other two.  \n",
    "\n",
    "## Collecting Data\n",
    "\n",
    "It's time to actually look at the results of our simulation. We'll be looking at four different cache models, \n",
    "* `FixedHitRate`\n",
    "* `Markov4`\n",
    "* `Markov8`\n",
    "* `All`\n",
    "\n",
    "The first three will train the same type of model for each phase. The last model will train all of the previous three for each phase, \n",
    "then pick between them. \n",
    "\n",
    "We have already run the base model, so well stick that in our dictionary, and run the rest. Let's view the summary for these models as they run."
   ]
  },
  {
   "cell_type": "code",
   "execution_count": 73,
   "metadata": {},
   "outputs": [
    {
     "name": "stdout",
     "output_type": "stream",
     "text": [
      "[xxxxxxxxxxxxxxxxxxxxxxxxxxxxxxxxxxxxxxxx] [Elapsed: 2:42]          \n",
      "Trace: memtrace.meabo.i125.N512.P521.L1.log\n",
      "Summary:\n",
      " L1 percent change in hit count: 0.01%\n",
      " L2 percent change in hit count: 19.71%\n",
      " L3 percent change in hit count: -7.04%\n",
      " Percent change in cycles: -19.49%\n",
      "[xxxxxxxxxxxxxxxxxxxxxxxxxxxxxxxxxxxxxxxx] [Elapsed: 2:50]          \n",
      "Trace: memtrace.meabo.i125.N512.P521.L1.log\n",
      "Summary:\n",
      " L1 percent change in hit count: -0.52%\n",
      " L2 percent change in hit count: 23.26%\n",
      " L3 percent change in hit count: -4.31%\n",
      " Percent change in cycles: -17.24%\n",
      "[xxxxxxxxxxxxxxxxxxxxxxxxxxxxxxxxxxxxxxxx] [Elapsed: 2:54]          \n",
      "Trace: memtrace.meabo.i125.N512.P521.L1.log\n",
      "Summary:\n",
      " L1 percent change in hit count: -0.78%\n",
      " L2 percent change in hit count: 15.14%\n",
      " L3 percent change in hit count: -7.36%\n",
      " Percent change in cycles: -3.53%\n",
      "[xxxxxxxxxxxxxxxxxxxxxxxxxxxxxxxxxxxxxxxx] [Elapsed: 2:42]          \n",
      "Trace: memtrace.meabo.i125.N512.P521.L1.log\n",
      "Summary:\n",
      " L1 percent change in hit count: -0.06%\n",
      " L2 percent change in hit count: 8.22%\n",
      " L3 percent change in hit count: -9.59%\n",
      " Percent change in cycles: -4.54%\n"
     ]
    }
   ],
   "source": [
    "stats = {}\n",
    "stats['base']    = stats_small\n",
    "\n",
    "stats['fr'], _   = sim.simulation(CacheModels.FixedHitRateSmartCache, trace_id='small')\n",
    "stats['m4'], _   = sim.simulation(CacheModels.Markov4StateSmartCache, trace_id='small')\n",
    "stats['m8'], _   = sim.simulation(CacheModels.Markov8StateSmartCache, trace_id='small')\n",
    "stats['all'], _  = sim.simulation(CacheModels.AllModelSmartCache,     trace_id='small')"
   ]
  },
  {
   "cell_type": "code",
   "execution_count": 74,
   "metadata": {},
   "outputs": [
    {
     "data": {
      "text/markdown": [
       "\n",
       "## Accuracy \n",
       "\n",
       "Ok, first thing we should check out is how well the models did at predicting the proper hits or misses. First we'll collect this data into\n",
       "a dataframe called accuracy_df, then we'll plot it. \n"
      ],
      "text/plain": [
       "<IPython.core.display.Markdown object>"
      ]
     },
     "metadata": {},
     "output_type": "display_data"
    }
   ],
   "source": [
    "%%markdown \n",
    "\n",
    "## Accuracy \n",
    "\n",
    "Ok, first thing we should check out is how well the models did at predicting the proper hits or misses. First we'll collect this data into\n",
    "a dataframe called accuracy_df, then we'll plot it. "
   ]
  },
  {
   "cell_type": "code",
   "execution_count": 21,
   "metadata": {},
   "outputs": [
    {
     "name": "stdout",
     "output_type": "stream",
     "text": [
      "PENNANT Accuraccy\n",
      "   Fixed Rate  Markov 4  Markov 8       All\n",
      "0    0.614835  0.627385  0.697568  0.697850\n",
      "1    0.661557  0.678462  0.688850  0.691675\n",
      "2    0.653367  0.668222  0.706972  0.710883\n",
      "3    0.642845  0.654713  0.679361  0.654885\n",
      "LULESH Accuraccy\n",
      "   Fixed Rate  Markov 4\n",
      "0    0.612036  0.622894\n",
      "1    0.619492  0.629942\n",
      "2    0.690519  0.696979\n",
      "3    0.663565  0.679748\n",
      "4    0.583171  0.611984\n",
      "5    0.581730  0.589726\n",
      "6    0.664540  0.580272\n",
      "7    0.576099  0.683559\n",
      "8    0.522292  0.534708\n",
      "9    0.609504  0.620791\n"
     ]
    }
   ],
   "source": [
    "def get_acc(st1, st2, phase):\n",
    "    # t1 is assumed to be from the base cache\n",
    "    \n",
    "    t1 = st1.cache_trace[0] # cache trace from st1\n",
    "    t2 = st2.cache_trace[0] # cache trace from st2\n",
    "    \n",
    "    # Just get accesses where were are in phase `phase` and in state is Swapped (2)\n",
    "    pick_state = t2['state'] == 2\n",
    "    pick_phase = t2['phase'] == phase\n",
    "    \n",
    "    pick = np.logical_and(pick_state, pick_phase)\n",
    "    \n",
    "    # Get the hit/miss from each \n",
    "    t1_hits = t1['isHit'][pick]\n",
    "    t2_hits = t2['isHit'][pick]\n",
    "    \n",
    "    num_correct = np.sum(np.equal(t1_hits, t2_hits))\n",
    "    acc = num_correct / len(t1_hits)\n",
    "    \n",
    "    return acc\n",
    "    \n",
    "stats = pennant_large_model\n",
    "nphases = stats['BASE'].phase_trace.nphases\n",
    "name_map={'FR':'Fixed Rate', 'M4': 'Markov 4', 'M8':'Markov 8', 'ALL':'All'}\n",
    "data = {}\n",
    "for name in stats:\n",
    "    if name is 'BASE':\n",
    "        continue\n",
    "    acc = []\n",
    "    for i in range(nphases):\n",
    "        acc.append(get_acc(stats['BASE'], stats[name], i))\n",
    "    data[name_map[name]] = acc\n",
    "accuracy_df_pennant = pd.DataFrame(data)\n",
    "print('PENNANT Accuraccy')\n",
    "print(accuracy_df_pennant)\n",
    "\n",
    "stats = lulesh_large_model\n",
    "nphases = stats['BASE'].phase_trace.nphases\n",
    "name_map={'FR':'Fixed Rate', 'M4': 'Markov 4', 'M8':'Markov 8', 'ALL':'All'}\n",
    "data = {}\n",
    "for name in stats:\n",
    "    if name is 'BASE':\n",
    "        continue\n",
    "    acc = []\n",
    "    for i in range(nphases):\n",
    "        acc.append(get_acc(stats['BASE'], stats[name], i))\n",
    "    data[name_map[name]] = acc\n",
    "accuracy_df_lulesh = pd.DataFrame(data)\n",
    "print('LULESH Accuraccy')\n",
    "print(accuracy_df_lulesh)"
   ]
  },
  {
   "cell_type": "code",
   "execution_count": 118,
   "metadata": {},
   "outputs": [
    {
     "data": {
      "image/png": "[encoded data removed]",
      "text/plain": [
       "<Figure size 432x288 with 1 Axes>"
      ]
     },
     "metadata": {
      "needs_background": "light"
     },
     "output_type": "display_data"
    }
   ],
   "source": [
    "ny = 5\n",
    "ax=plt.gca()\n",
    "accuracy_df.plot(xticks=[*range(0,5)],\n",
    "        yticks=[i/ny for i in range(0,ny+1)], \n",
    "             title='Per-phase Accuracy',ax=ax, \n",
    "             marker='o', linestyle=(0, (2,4)))\n",
    "ax.set_ylabel('Accuracy')\n",
    "ax.set_xlabel('Phase')\n",
    "ax.get_legend().remove()\n",
    "\n",
    "ax.spines['top'].set_visible(False)\n",
    "ax.spines['right'].set_visible(False)\n",
    "cmap = plt.get_cmap(\"tab10\")\n",
    "ax.text( x=4.1, y=accuracy_df['Fixed Rate'][ny-1], s='Fixed Rate', color=cmap(0))\n",
    "ax.text( x=4.1, y=accuracy_df['Markov 4'][ny-1], s='Markov 4', color=cmap(1))\n",
    "ax.text( x=4.1, y=accuracy_df['Markov 8'][ny-1], s='Markov 8', color=cmap(2))\n",
    "\n",
    "ax.text(x=0, y=.05, s='Initialization', rotation=90, color='grey')\n",
    "ax.text(x=1, y=.05, s='Marker', rotation=90, color='grey')\n",
    "ax.text(x=2, y=.05, s='High Locality', rotation=90, color='grey')\n",
    "ax.text(x=3, y=.05, s='Vector Add', rotation=90, color='grey')\n",
    "ax.text(x=4, y=.05, s='Random', rotation=90, color='grey')\n",
    "\n",
    "#plt.savefig('plots/per-phase-accuracy.svg')"
   ]
  },
  {
   "cell_type": "code",
   "execution_count": 94,
   "metadata": {},
   "outputs": [
    {
     "data": {
      "text/markdown": [
       "\n",
       "## Accuracy Over Time\n",
       "Let's now take a look at how accuracy changes over the course of a simulation. Does it get worse over time? \n",
       "\n",
       "As we're using the small trace, we won't see much here. Please re-run the notebook to get a better large chart. \n",
       "\n",
       "The reason a legend isn't generated is because it is hard to place it well. To get a legend, re-run the plot and uncomment the line labeled as such. \n",
       "Then grab the legend and paste it onto the plot in a good area. \n"
      ],
      "text/plain": [
       "<IPython.core.display.Markdown object>"
      ]
     },
     "metadata": {},
     "output_type": "display_data"
    }
   ],
   "source": [
    "%%markdown\n",
    "\n",
    "## Accuracy Over Time\n",
    "Let's now take a look at how accuracy changes over the course of a simulation. Does it get worse over time? \n",
    "\n",
    "As we're using the small trace, we won't see much here. Please re-run the notebook to get a better large chart. \n",
    "\n",
    "The reason a legend isn't generated is because it is hard to place it well. To get a legend, re-run the plot and uncomment the line labeled as such. \n",
    "Then grab the legend and paste it onto the plot in a good area. "
   ]
  },
  {
   "cell_type": "code",
   "execution_count": 92,
   "metadata": {},
   "outputs": [],
   "source": [
    "interval_len = 10000\n",
    "def acc_over_time(st1, st2, phase):\n",
    "    \n",
    "    t1 = st1.cache_trace[0] # cache trace from st1\n",
    "    t2 = st2.cache_trace[0] # cache trace from st2\n",
    "    \n",
    "    # Just get accesses where were are in phase `phase` and in state is Swapped (2)\n",
    "    pick_state = t2['state'] == 2\n",
    "    pick_phase = t2['phase'] == phase\n",
    "    \n",
    "    pick = np.logical_and(pick_state, pick_phase)\n",
    "    \n",
    "    # Get the hit/miss from each \n",
    "    t1_hits = t1['isHit'][pick]\n",
    "    t2_hits = t2['isHit'][pick]\n",
    "    \n",
    "    nintervals = int(len(t1_hits) // interval_len)-1\n",
    "    \n",
    "    acc = []\n",
    "    \n",
    "    for i in range(nintervals):\n",
    "        start = i*interval_len\n",
    "        end   = (i+1)*interval_len\n",
    "        t1_hits_rest = t1_hits[start:end]\n",
    "        t2_hits_rest = t2_hits[start:end]\n",
    "    \n",
    "        num_correct = np.sum(np.equal(t1_hits_rest, t2_hits_rest))\n",
    "        acc.append(num_correct / interval_len)\n",
    "    \n",
    "    return acc\n",
    "\n",
    "nphases = stats['base'].phase_trace.nphases\n",
    "name_map={'fr':'Fixed Rate', 'm4': 'Markov 4', 'm8':'Markov 8', 'all':'All'}\n",
    "all_df = {}\n",
    "for i in range(nphases):\n",
    "    data = {}\n",
    "    for name in stats:\n",
    "        if name is 'base':\n",
    "            continue\n",
    "        data[name_map[name]] = acc_over_time(stats['base'], stats[name], i)\n",
    "    data_df = pd.DataFrame(data)    \n",
    "    all_df[i] = data_df\n"
   ]
  },
  {
   "cell_type": "code",
   "execution_count": 120,
   "metadata": {
    "jupyter": {
     "source_hidden": true
    }
   },
   "outputs": [
    {
     "data": {
      "image/png": "[encoded data removed]",
      "text/plain": [
       "<Figure size 864x216 with 5 Axes>"
      ]
     },
     "metadata": {
      "needs_background": "light"
     },
     "output_type": "display_data"
    }
   ],
   "source": [
    "pretty=['Initialization', 'Marker', 'High Locality', 'Vector Add', 'Random']\n",
    "def acc_over_time_plot(ax, approx, m4, m8, phase):\n",
    "    ax.plot(approx, label='Fixed Rate')\n",
    "    ax.plot(m4, label='Markov 4')\n",
    "    ax.plot(m8, label='Markov 8')    \n",
    "    ax.set_ylim((0,1))\n",
    "    ax.spines['top'].set_visible(False)\n",
    "    ax.spines['right'].set_visible(False)\n",
    "    ax.spines['left'].set_visible(False)\n",
    "    ax.get_yaxis().set_ticks([])\n",
    "    ax.set_title('Phase {}'.format(phase))\n",
    "    ax.text(x=0, y=.05, s=pretty[phase], color='grey')\n",
    "    if phase == 0:\n",
    "        ax.set_ylabel('Accuracy')\n",
    "        ax.get_yaxis().set_ticks([.2, .4, .6, .8, 1.])\n",
    "        ax.set_xlabel('Interval number')\n",
    "    if phase == 4:\n",
    "        pass\n",
    "        #ax.legend(loc=10) ##UNCOMMENT ME FOR LEGEND\n",
    "\n",
    "fig, ax = plt.subplots(1, 5, figsize=(12,3), squeeze=False)\n",
    "for phase in range(5):    \n",
    "    acc_over_time_plot(ax[0,phase], \n",
    "          all_df[phase]['Fixed Rate'],\n",
    "          all_df[phase]['Markov 4'],\n",
    "          all_df[phase]['Markov 8'],\n",
    "          phase)\n",
    "#plt.savefig('plots/acc-over-time.svg')\n",
    "plt.show()\n"
   ]
  },
  {
   "cell_type": "code",
   "execution_count": 95,
   "metadata": {},
   "outputs": [
    {
     "data": {
      "text/markdown": [
       "\n",
       "## Accuracy as a function of Model Size\n",
       "\n",
       "This is just a fun little plot. \n"
      ],
      "text/plain": [
       "<IPython.core.display.Markdown object>"
      ]
     },
     "metadata": {},
     "output_type": "display_data"
    }
   ],
   "source": [
    "%%markdown\n",
    "\n",
    "## Accuracy as a function of Model Size\n",
    "\n",
    "This is just a fun little plot. "
   ]
  },
  {
   "cell_type": "code",
   "execution_count": 121,
   "metadata": {},
   "outputs": [
    {
     "data": {
      "image/png": "[encoded data removed]",
      "text/plain": [
       "<Figure size 432x288 with 1 Axes>"
      ]
     },
     "metadata": {
      "needs_background": "light"
     },
     "output_type": "display_data"
    }
   ],
   "source": [
    "bs=8192\n",
    "sz = {'base':1, 'fr':24/bs, 'm4':(3 * (4 * 4) * 8)/bs, 'm8':(3 * (8 * 8) * 8)/bs}\n",
    "\n",
    "fig, ax = plt.subplots()\n",
    "cmap = plt.get_cmap(\"tab10\")\n",
    "for i in range(5):\n",
    "    ax.scatter([sz['fr']], accuracy_df['Fixed Rate'][i], marker='${}$'.format(i), color=cmap(0), s=60)\n",
    "for i in range(5):\n",
    "    ax.scatter([sz['m4']], accuracy_df['Markov 4'][i], marker='${}$'.format(i), color=cmap(1), s=60)\n",
    "for i in range(5):\n",
    "    ax.scatter([sz['m8']], accuracy_df['Markov 8'][i], marker='${}$'.format(i), color=cmap(2), s=60)\n",
    "ax.scatter(1,1,  color=cmap(3))\n",
    "ax.set_xscale('log')\n",
    "\n",
    "\n",
    "labs=np.float64([24/bs, (3 * (4 * 4) * 8)/bs, (3 * (8 * 8) * 8)/bs, 1])*100\n",
    "ax.get_xaxis().set_ticks([24/bs, (3 * (4 * 4) * 8)/bs, (3 * (8 * 8) * 8)/bs, 1])\n",
    "ax.set_xticklabels(['{:.2f}%'.format(labs[i]) for i in range(4)])\n",
    "\n",
    "ax.get_yaxis().set_ticks([.4,.6, .8, 1])\n",
    "\n",
    "ax.set_xlabel('Model Size (% of Base Cache)')\n",
    "ax.set_ylabel('Accuracy')\n",
    "ax.set_ylim(0,1.05)\n",
    "ax.set_xlim(0,1.5)\n",
    "ax.text(x=labs[0]/100, y=.05, s='Fixed Rate', rotation=90, color='grey')\n",
    "ax.text(x=labs[1]/100, y=.05, s='Markov 4', rotation=90, color='grey')\n",
    "ax.text(x=labs[2]/100, y=.05, s='Markov 8', rotation=90, color='grey')\n",
    "ax.text(x=labs[3]/100, y=.05, s='Base', rotation=90, color='grey')\n",
    "\n",
    "ax.spines['top'].set_visible(False)\n",
    "ax.spines['right'].set_visible(False)\n",
    "\n",
    "ax.set_title('Points are Phase Numbers', size=10)\n",
    "fig.suptitle('Accuracy as a function of Model Size')\n",
    "\n",
    "#plt.savefig('plots/acc_vs_modelsize.svg')\n",
    "\n",
    "plt.show()"
   ]
  },
  {
   "cell_type": "code",
   "execution_count": 101,
   "metadata": {},
   "outputs": [
    {
     "data": {
      "text/markdown": [
       "\n",
       "## Locality Analysis\n",
       "\n",
       "Finally, we get to the hardest plot to generate, the locality plot. \n"
      ],
      "text/plain": [
       "<IPython.core.display.Markdown object>"
      ]
     },
     "metadata": {},
     "output_type": "display_data"
    }
   ],
   "source": [
    "%%markdown\n",
    "\n",
    "## Locality Analysis\n",
    "\n",
    "Finally, we get to the hardest plot to generate, the locality plot. "
   ]
  },
  {
   "cell_type": "code",
   "execution_count": 111,
   "metadata": {},
   "outputs": [],
   "source": [
    "def index(array, item):\n",
    "    for idx, val in enumerate(array):\n",
    "        if val == item:\n",
    "            return idx\n",
    "    return -1\n",
    "\n",
    "def rightshift(val: np.uint64, shift: np.uint64) -> np.uint64:\n",
    "    return val >> shift\n",
    "\n",
    "def reuse(trace, shift, outfile=None):\n",
    "    stack = np.array([], dtype=np.int64)\n",
    "    out = []\n",
    "    for i in tqdm(range(len(trace))):\n",
    "        addr = rightshift(trace[i], np.uint64(shift)) # Cache line\n",
    "        idx = index(stack, addr)\n",
    "        if idx == -1:\n",
    "            stack = np.insert(stack, 0, addr)\n",
    "        else:\n",
    "            out.append(idx)\n",
    "            stack = np.delete(stack, idx)\n",
    "            stack = np.insert(stack, 0, addr)\n",
    "\n",
    "    if outfile is not None:\n",
    "        save_object(out, outfile)\n",
    "        print('Wrote reuse trace to: {}'.format(outfile))\n",
    "        \n",
    "    return out\n"
   ]
  },
  {
   "cell_type": "code",
   "execution_count": 113,
   "metadata": {},
   "outputs": [
    {
     "name": "stderr",
     "output_type": "stream",
     "text": [
      "100%|██████████| 26515/26515 [00:07<00:00, 3328.31it/s]\n",
      "100%|██████████| 27694/27694 [00:02<00:00, 10488.76it/s]\n",
      "100%|██████████| 26426/26426 [00:02<00:00, 9462.64it/s] \n",
      "100%|██████████| 26080/26080 [00:03<00:00, 7609.16it/s]\n",
      "100%|██████████| 4826/4826 [00:02<00:00, 2337.25it/s]\n",
      "0it [00:00, ?it/s]\n",
      "100%|██████████| 10253/10253 [00:01<00:00, 6556.16it/s]\n",
      "100%|██████████| 10851/10851 [00:01<00:00, 6900.54it/s]\n",
      "100%|██████████| 38604/38604 [00:44<00:00, 863.72it/s] \n",
      "100%|██████████| 39157/39157 [00:15<00:00, 2585.33it/s]\n",
      "100%|██████████| 39890/39890 [00:15<00:00, 2531.24it/s]\n",
      "100%|██████████| 39154/39154 [00:40<00:00, 970.48it/s] \n",
      "100%|██████████| 27781/27781 [00:05<00:00, 4956.51it/s]\n",
      "100%|██████████| 29881/29881 [00:04<00:00, 6106.55it/s]\n",
      "100%|██████████| 29946/29946 [00:05<00:00, 5900.33it/s]\n",
      "100%|██████████| 30012/30012 [00:05<00:00, 5731.53it/s]\n",
      "100%|██████████| 33025/33025 [00:02<00:00, 15125.95it/s]\n",
      "100%|██████████| 33649/33649 [00:01<00:00, 27364.02it/s]\n",
      "100%|██████████| 32104/32104 [00:01<00:00, 21853.44it/s]\n",
      "100%|██████████| 36357/36357 [00:02<00:00, 17691.74it/s]\n"
     ]
    }
   ],
   "source": [
    "reuse_perphase_base    = {}\n",
    "reuse_perphase_approx  = {}\n",
    "reuse_perphase_markov4 = {}\n",
    "reuse_perphase_markov8 = {}\n",
    "gran=6\n",
    "\n",
    "def get_addrs(data, phase):\n",
    "    df = pd.DataFrame(data)\n",
    "    return np.array(df[df['phase']==phase]['addr'], dtype=np.uint64)\n",
    "\n",
    "for phase in range(0,5):\n",
    "    reuse_perphase_base[phase] = reuse(get_addrs(stats['base'].cache_trace[1], phase), gran)\n",
    "    reuse_perphase_approx[phase] = reuse(get_addrs(stats['fr'].cache_trace[1], phase), gran)\n",
    "    reuse_perphase_markov4[phase] = reuse(get_addrs(stats['m4'].cache_trace[1], phase), gran)\n",
    "    reuse_perphase_markov8[phase] = reuse(get_addrs(stats['m8'].cache_trace[1], phase), gran)"
   ]
  },
  {
   "cell_type": "code",
   "execution_count": 123,
   "metadata": {},
   "outputs": [
    {
     "data": {
      "image/png": "[encoded data removed]",
      "text/plain": [
       "<Figure size 576x576 with 20 Axes>"
      ]
     },
     "metadata": {
      "needs_background": "light"
     },
     "output_type": "display_data"
    }
   ],
   "source": [
    "binwidth=16\n",
    "#maxbin={1:50, 2:850, 3:225, 4:50}\n",
    "maxbin={0:200,1:200, 2:200, 3:200, 4:200}\n",
    "\n",
    "yl=45000\n",
    "ylim={0:yl,1:yl, 2:yl, 3:yl, 4:yl}\n",
    "\n",
    "\n",
    "def bins(data, binwidth, maxbin):\n",
    "    #return range(min(data), min(maxbin, max(data) + binwidth), binwidth)\n",
    "   # print(data)\n",
    "    return range(min(data), maxbin, binwidth)\n",
    "\n",
    "def plot(ax, data, title, phase):\n",
    "    if not data:\n",
    "        data = [1]\n",
    "    ax.hist(data, bins=bins(data, binwidth, maxbin=maxbin[phase]), color='black')\n",
    "    ax.set_ylim((0,ylim[phase]))\n",
    "    #ax.suptitle(title)\n",
    "    ax.spines['top'].set_visible(False)\n",
    "    ax.spines['right'].set_visible(False)\n",
    "    ax.spines['left'].set_visible(False)\n",
    "    ax.get_yaxis().set_ticks([])\n",
    "    if phase == 0:\n",
    "        ax.get_yaxis().set_ticks([30000])\n",
    "        ax.set_yticklabels(['30k'])\n",
    "    \n",
    "#plot(reuse_perphase_base[1], 'Base Cache', maxbin=maxbin[1])\n",
    "#plot(reuse_perphase_approx[1], 'Fixed Rate Cache', maxbin=maxbin[1])\n",
    "#plot(reuse_perphase_markov4[1], '4-State Markov Cache', maxbin=maxbin[1])\n",
    "#plot(reuse_perphase_markov8[1], '8-State Markov Cache', maxbin=maxbin[1])\n",
    "\n",
    "#i = 1\n",
    "\n",
    "fig, ax = plt.subplots(4, 5, figsize=(8,8))\n",
    "for i in range(5):\n",
    "    #phase = i+1\n",
    "    phase=i\n",
    "    \n",
    "    plot(ax[0,i], reuse_perphase_base[phase], 'Base Cache', phase)\n",
    "    plot(ax[1,i], reuse_perphase_approx[phase], 'Fixed Rate Cache', phase)\n",
    "    plot(ax[2,i], reuse_perphase_markov4[phase], '4-State Markov Cache', phase)\n",
    "    plot(ax[3,i], reuse_perphase_markov8[phase], '8-State Markov Cache', phase)\n",
    "\n",
    "#plt.savefig('plots/locality_per_phase.svg')\n",
    "plt.show()"
   ]
  },
  {
   "cell_type": "code",
   "execution_count": null,
   "metadata": {},
   "outputs": [],
   "source": []
  }
 ],
 "metadata": {
  "kernelspec": {
   "display_name": "Python [default]",
   "language": "python",
   "name": "python3"
  },
  "language_info": {
   "codemirror_mode": {
    "name": "ipython",
    "version": 3
   },
   "file_extension": ".py",
   "mimetype": "text/x-python",
   "name": "python",
   "nbconvert_exporter": "python",
   "pygments_lexer": "ipython3",
   "version": "3.7.6"
  }
 },
 "nbformat": 4,
 "nbformat_minor": 4
}
