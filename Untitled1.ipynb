{
 "cells": [
  {
   "cell_type": "code",
   "execution_count": 1,
   "metadata": {},
   "outputs": [
    {
     "name": "stdout",
     "output_type": "stream",
     "text": [
      "Traceback (most recent call last):\n",
      "  File \"DWARFMap.py\", line 3, in <module>\n",
      "    import sveCacheSim as sim\n",
      "  File \"/storage/hive/project/coc-young/plavin3/ModelSwapping/sveCacheSim.py\", line 38, in <module>\n",
      "    import PhaseDetector\n",
      "  File \"/storage/hive/project/coc-young/plavin3/ModelSwapping/PhaseDetector.py\", line 23, in <module>\n",
      "    import DWARFMap\n",
      "  File \"/storage/hive/project/coc-young/plavin3/ModelSwapping/DWARFMap.py\", line 5, in <module>\n",
      "    from elftools.elf.elffile import ELFFile #conda install pyelftools\n",
      "ModuleNotFoundError: No module named 'elftools'\n"
     ]
    },
    {
     "ename": "",
     "evalue": "1",
     "output_type": "error",
     "traceback": []
    }
   ],
   "source": [
    "python3 DWARFMap.py"
   ]
  },
  {
   "cell_type": "code",
   "execution_count": null,
   "metadata": {},
   "outputs": [],
   "source": []
  }
 ],
 "metadata": {
  "kernelspec": {
   "display_name": "Bash",
   "language": "bash",
   "name": "bash"
  }
 },
 "nbformat": 4,
 "nbformat_minor": 4
}
