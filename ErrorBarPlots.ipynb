{
 "cells": [
  {
   "cell_type": "code",
   "execution_count": 1,
   "metadata": {
    "scrolled": false
   },
   "outputs": [
    {
     "data": {
      "text/markdown": [
       "\n",
       "# ErrorBarPlots\n",
       "\n",
       "This file derives from ModelSwapping.ipynb but takes averages for some plots.\n"
      ],
      "text/plain": [
       "<IPython.core.display.Markdown object>"
      ]
     },
     "metadata": {},
     "output_type": "display_data"
    }
   ],
   "source": [
    "%%markdown\n",
    "\n",
    "# ErrorBarPlots\n",
    "\n",
    "This file derives from ModelSwapping.ipynb but takes averages for some plots."
   ]
  },
  {
   "cell_type": "code",
   "execution_count": 1,
   "metadata": {},
   "outputs": [],
   "source": [
    "import sveCacheSim as sim\n",
    "import CacheModels\n",
    "import matplotlib.pyplot as plt\n",
    "import numpy as np\n",
    "import pandas as pd\n",
    "import pickle\n",
    "from tqdm import tqdm"
   ]
  },
  {
   "cell_type": "code",
   "execution_count": 2,
   "metadata": {},
   "outputs": [],
   "source": [
    "# Load Data\n",
    "size='Large'\n",
    "sizel = size.lower()\n",
    "data = sim.load_object('DataPMBS20/{}AllModels10Runs.pkl'.format(size))\n",
    "stats = {}\n",
    "gold_file='gold_python3.7/base_{}_stats.pkl'.format(sizel)\n",
    "stats['base'] = sim.load_object('gold_python3.7/base_{}_stats.pkl'.format(sizel))\n",
    "stats['fr'] = data[sizel]['FR']\n",
    "stats['m4'] = data[sizel]['M4']\n",
    "stats['m8'] = data[sizel]['M8']\n",
    "stats['all'] = data[sizel]['ALL']"
   ]
  },
  {
   "cell_type": "code",
   "execution_count": 3,
   "metadata": {},
   "outputs": [
    {
     "name": "stdout",
     "output_type": "stream",
     "text": [
      "Summary:\n",
      " L1 percent change in hit count: -0.09%\n",
      " L2 percent change in hit count: 54.35%\n",
      " L3 percent change in hit count: -71.17%\n",
      " Percent change in cycles: -27.88%\n",
      "Summary:\n",
      " L1 percent change in hit count: -0.37%\n",
      " L2 percent change in hit count: 46.10%\n",
      " L3 percent change in hit count: -51.74%\n",
      " Percent change in cycles: -23.22%\n",
      "Summary:\n",
      " L1 percent change in hit count: -0.19%\n",
      " L2 percent change in hit count: 12.16%\n",
      " L3 percent change in hit count: -4.10%\n",
      " Percent change in cycles: -7.60%\n",
      "Summary:\n",
      " L1 percent change in hit count: 0.07%\n",
      " L2 percent change in hit count: 10.14%\n",
      " L3 percent change in hit count: -4.89%\n",
      " Percent change in cycles: -7.91%\n"
     ]
    }
   ],
   "source": [
    "# Check that the right stats were loaded\n",
    "# Error should be ~3-4% for M8/All on Small Medium\n",
    "# Error should be ~7-8% for M8/All on Large\n",
    "sim.print_summary(stats['fr'][0], 'gold_python3.7/base_{}_stats.pkl'.format(sizel))\n",
    "sim.print_summary(stats['m4'][0], 'gold_python3.7/base_{}_stats.pkl'.format(sizel))\n",
    "sim.print_summary(stats['m8'][0], 'gold_python3.7/base_{}_stats.pkl'.format(sizel))\n",
    "sim.print_summary(stats['all'][0], 'gold_python3.7/base_{}_stats.pkl'.format(sizel))\n"
   ]
  },
  {
   "cell_type": "code",
   "execution_count": 66,
   "metadata": {},
   "outputs": [
    {
     "data": {
      "text/markdown": [
       "\n",
       "## Meabo Traces\n"
      ],
      "text/plain": [
       "<IPython.core.display.Markdown object>"
      ]
     },
     "metadata": {},
     "output_type": "display_data"
    }
   ],
   "source": [
    "%%markdown\n",
    "\n",
    "## Meabo Traces\n"
   ]
  },
  {
   "cell_type": "code",
   "execution_count": 4,
   "metadata": {},
   "outputs": [
    {
     "data": {
      "image/png": "[encoded data removed]",
      "text/plain": [
       "<Figure size 288x216 with 1 Axes>"
      ]
     },
     "metadata": {
      "needs_background": "light"
     },
     "output_type": "display_data"
    }
   ],
   "source": [
    "def plot_trace(ax, label, trace, axis_labels):\n",
    "    ax.scatter([*range(len(trace))], trace,s=2, color='black')\n",
    "    ax.spines['top'].set_visible(False)\n",
    "    ax.spines['right'].set_visible(False)\n",
    "    ax.set_title(label)\n",
    "    if axis_labels:\n",
    "        ax.set_ylabel('Phase Number (-1 is uncategorized)')\n",
    "        ax.set_xlabel('Interval number (Interval = 10k inst)')\n",
    "\n",
    "        \n",
    "fig, ax = plt.subplots(figsize=(4,3))\n",
    "#plot_trace(ax, '{} Trace'.format(size), stats['base'].phase_trace.trace, True)\n",
    "plot_trace(ax, None, stats['base'].phase_trace.trace, True)\n",
    "plt.tight_layout()\n",
    "\n",
    "\n",
    "plt.savefig('DataPMBS20/plots_{}/phase_trace.pdf'.format(sizel))\n"
   ]
  },
  {
   "cell_type": "code",
   "execution_count": 5,
   "metadata": {},
   "outputs": [
    {
     "data": {
      "text/markdown": [
       "\n",
       "## Accuracy \n",
       "\n",
       "This time we'll average 10 runs\n"
      ],
      "text/plain": [
       "<IPython.core.display.Markdown object>"
      ]
     },
     "metadata": {},
     "output_type": "display_data"
    }
   ],
   "source": [
    "%%markdown \n",
    "\n",
    "## Accuracy \n",
    "\n",
    "This time we'll average 10 runs\n"
   ]
  },
  {
   "cell_type": "code",
   "execution_count": 82,
   "metadata": {},
   "outputs": [
    {
     "name": "stdout",
     "output_type": "stream",
     "text": [
      "Mean Accuracy\n",
      "   Fixed Rate  Markov 4  Markov 8\n",
      "0    0.668482  0.679830  0.733407\n",
      "1    0.991046  0.982168  0.981472\n",
      "2    0.698494  0.707939  0.876057\n",
      "3    0.532295  0.624644  0.688235\n",
      "4    0.739240  0.815036  0.927995\n",
      "Stddev Accuracy\n",
      "     Fixed Rate  Markov 4  Markov 8\n",
      "0  3.519085e-04  0.000351  0.000620\n",
      "1  1.110223e-16  0.000068  0.000059\n",
      "2  1.633939e-04  0.000219  0.000133\n",
      "3  3.439110e-04  0.000442  0.000467\n",
      "4  1.790020e-04  0.000123  0.000122\n"
     ]
    }
   ],
   "source": [
    "def get_acc(st1, st2, phase):\n",
    "    # t1 is assumed to be from the base cache\n",
    "    \n",
    "    t1 = st1.cache_trace[0] # cache trace from st1\n",
    "    t2 = st2.cache_trace[0] # cache trace from st2\n",
    "    \n",
    "    # Just get accesses where were are in phase `phase` and in state is Swapped (2)\n",
    "    pick_state = t2['state'] == 2\n",
    "    pick_phase = t2['phase'] == phase\n",
    "    \n",
    "    pick = np.logical_and(pick_state, pick_phase)\n",
    "    \n",
    "    # Get the hit/miss from each \n",
    "    t1_hits = t1['isHit'][pick]\n",
    "    t2_hits = t2['isHit'][pick]\n",
    "    \n",
    "    num_correct = np.sum(np.equal(t1_hits, t2_hits))\n",
    "    acc = num_correct / len(t1_hits)\n",
    "    \n",
    "    return acc\n",
    "\n",
    "    \n",
    "nphases = stats['base'].phase_trace.nphases\n",
    "name_map={'fr':'Fixed Rate', 'm4': 'Markov 4', 'm8':'Markov 8', 'all':'All'}\n",
    "data_mean = {}\n",
    "data_std = {}\n",
    "data_std_up = {}\n",
    "data_std_down = {}\n",
    "\n",
    "for name in stats:\n",
    "    if name is 'base' or name is 'all':\n",
    "        continue\n",
    "    acc_mean = []\n",
    "    acc_std = []\n",
    "    for i in range(nphases):\n",
    "        agg = []\n",
    "        for j in range(len(stats[name])):\n",
    "            agg.append(get_acc(stats['base'], stats[name][j], i))\n",
    "        acc_mean.append(np.mean(agg))\n",
    "        acc_std.append(np.std(agg))\n",
    "    data_mean[name_map[name]] = acc_mean\n",
    "    data_std[name_map[name]] = acc_std\n",
    "    data_std_up[name_map[name]] = [acc_mean[i] + acc_std[i] for i in range(len(acc_mean))]\n",
    "    data_std_down[name_map[name]] = [acc_mean[i] - acc_std[i] for i in range(len(acc_mean))]\n",
    "\n",
    "acc_mean_df = pd.DataFrame(data_mean)\n",
    "acc_std_df = pd.DataFrame(data_std)\n",
    "acc_std_up_df = pd.DataFrame(data_std_up)\n",
    "acc_std_down_df = pd.DataFrame(data_std_down)\n",
    "\n",
    "print('Mean Accuracy')\n",
    "print(acc_mean_df)\n",
    "print('Stddev Accuracy')\n",
    "print(acc_std_df)"
   ]
  },
  {
   "cell_type": "code",
   "execution_count": 81,
   "metadata": {
    "scrolled": true
   },
   "outputs": [
    {
     "name": "stdout",
     "output_type": "stream",
     "text": [
      "\\begin{table}[hp]\n",
      "\\caption{Mean Per-Phase Accuracy (10 Runs)}\\label{tab:acc}\n",
      "\\begin{tabularx}{\\linewidth}{|l|X|X|X|X|X|}\n",
      "\\hline{}\n",
      " & Phase 0 & Phase 1 & Phase 2 & Phase 3 & Phase 4 \\\\ \\hline\\hline\n",
      "Fixed Rate & 0.67 & 0.99 & 0.70 & 0.53 & 0.74 \\\\ \\hline\n",
      "Markov 4 & 0.68 & 0.98 & 0.71 & 0.62 & 0.82 \\\\ \\hline\n",
      "Markov 8 & 0.73 & 0.98 & 0.88 & 0.69 & 0.93 \\\\ \\hline\n",
      "All & 0.73 & 0.99 & 0.88 & 0.69 & 0.93 \\\\ \\hline\n",
      "\\end{tabularx}\n",
      "\\end{table}\n",
      "\n",
      "\\begin{table}[hp]\n",
      "\\caption{Std.Dev. in Per-Phase Accuracy (10 Runs)}\\label{tab:stddev}\n",
      "\\begin{tabularx}{\\linewidth}{|l|X|X|X|X|X|}\n",
      "\\hline{}\n",
      " & Phase 0 & Phase 1 & Phase 2 & Phase 3 & Phase 4 \\\\ \\hline\\hline\n",
      "Fixed Rate & 0.0004 & 0.0000 & 0.0002 & 0.0003 & 0.0002 \\\\ \\hline\n",
      "Markov 4 & 0.0004 & 0.0001 & 0.0002 & 0.0004 & 0.0001 \\\\ \\hline\n",
      "Markov 8 & 0.0006 & 0.0001 & 0.0001 & 0.0005 & 0.0001 \\\\ \\hline\n",
      "All & 0.0005 & 0.0000 & 0.0002 & 0.0004 & 0.0001 \\\\ \\hline\n",
      "\\end{tabularx}\n",
      "\\end{table}\n",
      "\n"
     ]
    }
   ],
   "source": [
    "# Format these as latex tables\n",
    "\n",
    "\n",
    "def latex_table_2(df):\n",
    "    s = \"\\\\begin{table}[hp]\\n\"\n",
    "    s += \"\\\\caption{Mean Per-Phase Accuracy (10 Runs)}\\\\label{tab:acc}\\n\"\n",
    "    s += \"\\\\begin{tabularx}{\\\\linewidth}{|l|X|X|X|X|X|}\\n\"\n",
    "    s += \"\\\\hline{}\\n\"\n",
    "    s += \" & Phase 0 & Phase 1 & Phase 2 & Phase 3 & Phase 4 \\\\\\\\ \\\\hline\\\\hline\\n\"\n",
    "    for i in df:\n",
    "        s += \"{} & {:.2f} & {:.2f} & {:.2f} & {:.2f} & {:.2f} \\\\\\\\ \\\\hline\\n\".format(i, df[i][0], df[i][1], df[i][2], df[i][3], df[i][4])\n",
    "    s += \"\\\\end{tabularx}\\n\\\\end{table}\\n\"\n",
    "    return s\n",
    "def latex_table_4(df):\n",
    "    s = \"\\\\begin{table}[hp]\\n\"\n",
    "    s += \"\\\\caption{Std.Dev. in Per-Phase Accuracy (10 Runs)}\\\\label{tab:stddev}\\n\"\n",
    "    s += \"\\\\begin{tabularx}{\\\\linewidth}{|l|X|X|X|X|X|}\\n\"\n",
    "    s += \"\\\\hline{}\\n\"\n",
    "    s += \" & Phase 0 & Phase 1 & Phase 2 & Phase 3 & Phase 4 \\\\\\\\ \\\\hline\\\\hline\\n\"\n",
    "    for i in df:\n",
    "        s += \"{} & {:.4f} & {:.4f} & {:.4f} & {:.4f} & {:.4f} \\\\\\\\ \\\\hline\\n\".format(i, df[i][0], df[i][1], df[i][2], df[i][3], df[i][4])\n",
    "    s += \"\\\\end{tabularx}\\n\\\\end{table}\\n\"\n",
    "    return s\n",
    "    \n",
    "        \n",
    "print(latex_table_2(acc_mean_df))\n",
    "\n",
    "print(latex_table_4(acc_std_df))\n",
    "\n"
   ]
  },
  {
   "cell_type": "code",
   "execution_count": 83,
   "metadata": {},
   "outputs": [
    {
     "data": {
      "image/png": "[encoded data removed]",
      "text/plain": [
       "<Figure size 288x216 with 1 Axes>"
      ]
     },
     "metadata": {
      "needs_background": "light"
     },
     "output_type": "display_data"
    }
   ],
   "source": [
    "ny = 5\n",
    "cmap = plt.get_cmap(\"tab10\")\n",
    "fig, ax = plt.subplots(figsize=(4,3))\n",
    "\n",
    "mark = {'Fixed Rate':'+', 'Markov 4':'_',  'Markov 8':'^', 'All':'x'}\n",
    "\n",
    "for name in acc_mean_df:\n",
    "    ax.plot(acc_mean_df[name], \n",
    "            linestyle=(0, (2,4)),\n",
    "            marker='o')\n",
    "\n",
    "\n",
    "ax.set_ylim((0,1))\n",
    "\n",
    "\n",
    "ax.set_ylabel('Accuracy')\n",
    "ax.set_xlabel('Phase')\n",
    "cmap = plt.get_cmap(\"tab10\")\n",
    "\n",
    "ax.spines['top'].set_visible(False)\n",
    "ax.spines['right'].set_visible(False)\n",
    "ax.spines['left'].set_visible(False)\n",
    "ax.text( x=4.1, y=acc_mean_df['Fixed Rate'][ny-1], s='Fixed Rate', color=cmap(0))\n",
    "ax.text( x=4.1, y=acc_mean_df['Markov 4'][ny-1], s='Markov 4', color=cmap(1))\n",
    "ax.text( x=4.1, y=acc_mean_df['Markov 8'][ny-1], s='Markov 8', color=cmap(2))\n",
    "\n",
    "ax.text(x=0, y=.05, s='Initialization', rotation=90, color='grey')\n",
    "ax.text(x=1, y=.05, s='Marker', rotation=90, color='grey')\n",
    "ax.text(x=2, y=.05, s='High Locality', rotation=90, color='grey')\n",
    "ax.text(x=3, y=.05, s='Vector Add', rotation=90, color='grey')\n",
    "ax.text(x=4, y=.05, s='Random', rotation=90, color='grey')\n",
    "plt.tight_layout()\n",
    "\n",
    "plt.savefig('DataPMBS20/plots_{}/per-phase-accuracy.pdf'.format(sizel))"
   ]
  },
  {
   "cell_type": "code",
   "execution_count": 12,
   "metadata": {},
   "outputs": [
    {
     "data": {
      "text/markdown": [
       "\n",
       "## Accuracy Over Time\n",
       "Let's now take a look at how accuracy changes over the course of a simulation. Does it get worse over time? \n",
       "\n",
       "As we're using the small trace, we won't see much here. Please re-run the notebook to get a better large chart. \n",
       "\n",
       "The reason a legend isn't generated is because it is hard to place it well. To get a legend, re-run the plot and uncomment the line labeled as such. \n",
       "Then grab the legend and paste it onto the plot in a good area. \n"
      ],
      "text/plain": [
       "<IPython.core.display.Markdown object>"
      ]
     },
     "metadata": {},
     "output_type": "display_data"
    }
   ],
   "source": [
    "%%markdown\n",
    "\n",
    "## Accuracy Over Time\n",
    "Let's now take a look at how accuracy changes over the course of a simulation. Does it get worse over time? \n",
    "\n",
    "As we're using the small trace, we won't see much here. Please re-run the notebook to get a better large chart. \n",
    "\n",
    "The reason a legend isn't generated is because it is hard to place it well. To get a legend, re-run the plot and uncomment the line labeled as such. \n",
    "Then grab the legend and paste it onto the plot in a good area. "
   ]
  },
  {
   "cell_type": "code",
   "execution_count": 13,
   "metadata": {},
   "outputs": [],
   "source": [
    "interval_len = 10000\n",
    "def acc_over_time(st1, st2, phase):\n",
    "    \n",
    "    t1 = st1.cache_trace[0] # cache trace from st1 \n",
    "    \n",
    "    # Just get accesses where were are in phase `phase` and in state is Swapped (2)\n",
    "    t2_temp = st2[0].cache_trace[0]\n",
    "    pick_state = t2_temp['state'] == 2\n",
    "    pick_phase = t2_temp['phase'] == phase\n",
    "    pick = np.logical_and(pick_state, pick_phase)\n",
    "\n",
    "    t1_hits = t1['isHit'][pick]\n",
    "    nintervals = int(len(t1_hits) // interval_len)-1\n",
    "    \n",
    "    acc = np.zeros((len(st2), nintervals))\n",
    "\n",
    "    for j in range(len(st2)):\n",
    "        t2 = st2[j].cache_trace[0] # cache trace from st2\n",
    "    \n",
    "        # Get the hit/miss from each \n",
    "        t2_hits = t2['isHit'][pick]\n",
    "        \n",
    "        for i in range(nintervals):\n",
    "            start = i*interval_len\n",
    "            end   = (i+1)*interval_len\n",
    "            t1_hits_rest = t1_hits[start:end]\n",
    "            t2_hits_rest = t2_hits[start:end]\n",
    "    \n",
    "            num_correct = np.sum(np.equal(t1_hits_rest, t2_hits_rest))\n",
    "            acc[j, i] = num_correct / interval_len\n",
    "    \n",
    "    mean = np.mean(acc, axis=0)\n",
    "    std = np.std(acc, axis=0)\n",
    "    return mean, std\n",
    "\n",
    "nphases = stats['base'].phase_trace.nphases\n",
    "name_map={'fr':'Fixed Rate', 'm4': 'Markov 4', 'm8':'Markov 8', 'all':'All'}\n",
    "all_df = {}\n",
    "for i in range(nphases):\n",
    "    data = {}\n",
    "    for name in stats:\n",
    "        if name is 'base':\n",
    "            continue\n",
    "        data[name_map[name]],_ = acc_over_time(stats['base'], stats[name], i)\n",
    "    data_df = pd.DataFrame(data)    \n",
    "    all_df[i] = data_df"
   ]
  },
  {
   "cell_type": "code",
   "execution_count": 15,
   "metadata": {
    "jupyter": {
     "source_hidden": true
    }
   },
   "outputs": [
    {
     "data": {
      "image/png": "[encoded data removed]",
      "text/plain": [
       "<Figure size 864x216 with 5 Axes>"
      ]
     },
     "metadata": {
      "needs_background": "light"
     },
     "output_type": "display_data"
    }
   ],
   "source": [
    "pretty=['Initialization', 'Marker', 'High Locality', 'Vector Add', 'Random']\n",
    "cmap = plt.get_cmap(\"tab10\")\n",
    "\n",
    "def acc_over_time_plot(ax, approx, m4, m8, phase):\n",
    "    ax.plot(approx, label='Fixed Rate')\n",
    "    ax.plot(m4, label='Markov 4')\n",
    "    ax.plot(m8, label='Markov 8')    \n",
    "    ax.set_ylim((0,1))\n",
    "    ax.spines['top'].set_visible(False)\n",
    "    ax.spines['right'].set_visible(False)\n",
    "    ax.spines['left'].set_visible(False)\n",
    "    ax.get_yaxis().set_ticks([])\n",
    "    ax.set_title('Phase {}'.format(phase))\n",
    "    ax.text(x=0, y=.05, s=pretty[phase], color='grey')\n",
    "    \n",
    "    ax.scatter(0, approx[0], marker='v', color=cmap(0))\n",
    "    ax.scatter(0, m4[0], marker='+', color=cmap(1))\n",
    "    ax.scatter(0, m8[0], marker='x', color=cmap(2))\n",
    "    \n",
    "    adj_up=.015\n",
    "    if phase == 4:\n",
    "        ax.text(len(approx), approx[len(approx)-1]+adj_up, s='Fixed HR', ha='right', size=8, color=cmap(0))\n",
    "        ax.text(len(m4), m4[len(m4)-1]+adj_up, s='Markov 4', ha='right', size=8, color=cmap(1))\n",
    "        ax.text(len(m8), m8[len(m8)-1]+adj_up, s='Markov 8', ha='right', size=8, color=cmap(2))\n",
    "    if phase == 0:\n",
    "        ax.set_ylabel('Accuracy')\n",
    "        ax.get_yaxis().set_ticks([.2, .4, .6, .8, 1.])\n",
    "        ax.set_xlabel('Interval number')\n",
    "    if phase == 4:\n",
    "        pass\n",
    "        #ax.legend(loc=10) ##UNCOMMENT ME FOR LEGEND\n",
    "\n",
    "fig, ax = plt.subplots(1, 5, figsize=(12,3), squeeze=False)\n",
    "for phase in range(5):    \n",
    "    acc_over_time_plot(ax[0,phase], \n",
    "          all_df[phase]['Fixed Rate'],\n",
    "          all_df[phase]['Markov 4'],\n",
    "          all_df[phase]['Markov 8'],\n",
    "          phase)\n",
    "#Remove whitespace around plot\n",
    "plt.gca().xaxis.set_major_locator(plt.NullLocator())\n",
    "plt.gca().yaxis.set_major_locator(plt.NullLocator())\n",
    "\n",
    "plt.savefig('DataPMBS20/plots_{}/acc-over-time.pdf'.format(sizel))\n",
    "plt.show()\n"
   ]
  },
  {
   "cell_type": "code",
   "execution_count": 77,
   "metadata": {},
   "outputs": [
    {
     "data": {
      "text/markdown": [
       "\n",
       "## Accuracy as a function of Model Size\n",
       "\n",
       "This is just a fun little plot. \n"
      ],
      "text/plain": [
       "<IPython.core.display.Markdown object>"
      ]
     },
     "metadata": {},
     "output_type": "display_data"
    }
   ],
   "source": [
    "%%markdown\n",
    "\n",
    "## Accuracy as a function of Model Size\n",
    "\n",
    "This is just a fun little plot. "
   ]
  },
  {
   "cell_type": "code",
   "execution_count": 18,
   "metadata": {},
   "outputs": [
    {
     "data": {
      "image/png": "[encoded data removed]",
      "text/plain": [
       "<Figure size 288x252 with 1 Axes>"
      ]
     },
     "metadata": {
      "needs_background": "light"
     },
     "output_type": "display_data"
    }
   ],
   "source": [
    "bs=8192\n",
    "sz = {'base':1, 'fr':24/bs, 'm4':(3 * (4 * 4) * 8)/bs, 'm8':(3 * (8 * 8) * 8)/bs}\n",
    "\n",
    "fig, ax = plt.subplots(figsize=(4,3.5))\n",
    "\n",
    "cmap = plt.get_cmap(\"tab10\")\n",
    "for i in range(5):\n",
    "    ax.scatter([sz['fr']], acc_mean_df['Fixed Rate'][i], marker='${}$'.format(i), color=cmap(0), s=60)\n",
    "for i in range(5):\n",
    "    ax.scatter([sz['m4']], acc_mean_df['Markov 4'][i], marker='${}$'.format(i), color=cmap(1), s=60)\n",
    "for i in range(5):\n",
    "    ax.scatter([sz['m8']], acc_mean_df['Markov 8'][i], marker='${}$'.format(i), color=cmap(2), s=60)\n",
    "ax.scatter(1,1,  color=cmap(3))\n",
    "ax.set_xscale('log')\n",
    "\n",
    "\n",
    "labs=np.float64([24/bs, (3 * (4 * 4) * 8)/bs, (3 * (8 * 8) * 8)/bs, 1])*100\n",
    "ax.get_xaxis().set_ticks([24/bs, (3 * (4 * 4) * 8)/bs, (3 * (8 * 8) * 8)/bs, 1])\n",
    "ax.set_xticklabels(['{:.2f}%'.format(labs[i]) for i in range(4)])\n",
    "\n",
    "ax.get_yaxis().set_ticks([.2,.4,.6, .8, 1])\n",
    "\n",
    "ax.set_xlabel('Model Size (% of Base Cache)')\n",
    "ax.set_ylabel('Accuracy')\n",
    "ax.set_ylim(0,1.05)\n",
    "ax.set_xlim(0,1.5)\n",
    "ax.text(x=labs[0]/100, y=.05, s='Fixed Rate', rotation=90, color='grey')\n",
    "ax.text(x=labs[1]/100, y=.05, s='Markov 4', rotation=90, color='grey')\n",
    "ax.text(x=labs[2]/100, y=.05, s='Markov 8', rotation=90, color='grey')\n",
    "ax.text(x=labs[3]/100, y=.05, s='Base', rotation=90, color='grey')\n",
    "\n",
    "ax.spines['top'].set_visible(False)\n",
    "ax.spines['right'].set_visible(False)\n",
    "\n",
    "#ax.set_title('Points are Phase Numbers', size=10)\n",
    "#fig.suptitle('Accuracy as a function of Model Size')\n",
    "\n",
    "plt.savefig('DataPMBS20/plots_{}/acc_vs_modelsize.pdf'.format(sizel))\n",
    "\n",
    "plt.show()"
   ]
  },
  {
   "cell_type": "code",
   "execution_count": 20,
   "metadata": {},
   "outputs": [
    {
     "data": {
      "text/markdown": [
       "\n",
       "# Model Scores\n"
      ],
      "text/plain": [
       "<IPython.core.display.Markdown object>"
      ]
     },
     "metadata": {},
     "output_type": "display_data"
    }
   ],
   "source": [
    "%%markdown\n",
    "\n",
    "# Model Scores"
   ]
  },
  {
   "cell_type": "code",
   "execution_count": 71,
   "metadata": {},
   "outputs": [
    {
     "name": "stdout",
     "output_type": "stream",
     "text": [
      "\\begin{table}\n",
      "\\caption{Model Scores (lower is better)}\\label{tab:scores}\n",
      "\\begin{tabularx}{\\linewidth}{|l|X|X|X|X|X|}\n",
      "\\hline{}\n",
      " & Phase 0 & Phase 1 & Phase 2 & Phase 3 & Phase 4 \\\\ \\hline\\hline\n",
      "Fixed Rate & 0.6875 & 0.0626 & 0.6035 & 0.9273 & 0.5188 \\\\ \\hline\n",
      "Markov 4 & 0.6519 & 0.0781 & 0.6070 & 0.7479 & 0.3842 \\\\ \\hline\n",
      "Markov 8 & 0.5802 & 0.2253 & 0.3313 & 0.6659 & 0.2668 \\\\ \\hline\n",
      "\\end{tabularx}\n",
      "\\end{table}\n",
      "\n"
     ]
    }
   ],
   "source": [
    "#stats['all'][0].phase_obj[0][4].score_history.get()\n",
    "d = np.zeros((5,3))\n",
    "for phase in stats['all'][0].phase_obj[0]:\n",
    "    if phase == -1:\n",
    "        continue\n",
    "    for i in range(3):\n",
    "        d[phase,i] = stats['all'][0].phase_obj[0][phase].score_history.get()[1][i]\n",
    "\n",
    "d = np.transpose(d)\n",
    "names={0:'Fixed Rate', 1:'Markov 4', 2:'Markov 8'}\n",
    "\n",
    "def score_table(df):\n",
    "    s = \"\\\\begin{table}\\n\"\n",
    "    s += \"\\\\caption{Model Scores (lower is better)}\\\\label{tab:scores}\\n\"\n",
    "    s += \"\\\\begin{tabularx}{\\\\linewidth}{|l|X|X|X|X|X|}\\n\"\n",
    "    s += \"\\\\hline{}\\n\"\n",
    "    s += \" & Phase 0 & Phase 1 & Phase 2 & Phase 3 & Phase 4 \\\\\\\\ \\\\hline\\\\hline\\n\"\n",
    "    for i in range(len(d)):\n",
    "        s += \"{} & {:.4f} & {:.4f} & {:.4f} & {:.4f} & {:.4f} \\\\\\\\ \\\\hline\\n\".format(names[i], d[i][0], d[i][1], d[i][2], d[i][3], d[i][4])\n",
    "    s += \"\\\\end{tabularx}\\n\\\\end{table}\\n\"\n",
    "    return s\n",
    "\n",
    "\n",
    "print(score_table(d))"
   ]
  },
  {
   "cell_type": "code",
   "execution_count": 49,
   "metadata": {},
   "outputs": [
    {
     "data": {
      "text/markdown": [
       "\n",
       "## Locality Analysis\n",
       "\n",
       "Finally, we get to the hardest plot to generate, the locality plot. \n"
      ],
      "text/plain": [
       "<IPython.core.display.Markdown object>"
      ]
     },
     "metadata": {},
     "output_type": "display_data"
    }
   ],
   "source": [
    "%%markdown\n",
    "\n",
    "## Locality Analysis\n",
    "\n",
    "Finally, we get to the hardest plot to generate, the locality plot. "
   ]
  },
  {
   "cell_type": "code",
   "execution_count": 80,
   "metadata": {},
   "outputs": [],
   "source": [
    "def index(array, item):\n",
    "    for idx, val in enumerate(array):\n",
    "        if val == item:\n",
    "            return idx\n",
    "    return -1\n",
    "\n",
    "def rightshift(val: np.uint64, shift: np.uint64) -> np.uint64:\n",
    "    return val >> shift\n",
    "\n",
    "def reuse(trace, shift, outfile=None):\n",
    "    stack = np.array([], dtype=np.int64)\n",
    "    out = []\n",
    "    for i in tqdm(range(len(trace))):\n",
    "        addr = rightshift(trace[i], np.uint64(shift)) # Cache line\n",
    "        idx = index(stack, addr)\n",
    "        if idx == -1:\n",
    "            stack = np.insert(stack, 0, addr)\n",
    "        else:\n",
    "            out.append(idx)\n",
    "            stack = np.delete(stack, idx)\n",
    "            stack = np.insert(stack, 0, addr)\n",
    "\n",
    "    if outfile is not None:\n",
    "        save_object(out, outfile)\n",
    "        print('Wrote reuse trace to: {}'.format(outfile))\n",
    "        \n",
    "    return out\n"
   ]
  },
  {
   "cell_type": "code",
   "execution_count": 81,
   "metadata": {},
   "outputs": [
    {
     "name": "stderr",
     "output_type": "stream",
     "text": [
      "100%|██████████| 134238/134238 [01:41<00:00, 1326.93it/s]\n",
      "100%|██████████| 147223/147223 [00:21<00:00, 6727.18it/s]\n",
      "100%|██████████| 145995/145995 [00:24<00:00, 5976.24it/s]\n",
      "100%|██████████| 142677/142677 [00:35<00:00, 3971.09it/s]\n",
      "100%|██████████| 9910/9910 [00:08<00:00, 1126.22it/s]\n",
      "0it [00:00, ?it/s]\n",
      "100%|██████████| 19314/19314 [00:06<00:00, 3068.16it/s]\n",
      "100%|██████████| 20214/20214 [00:06<00:00, 3048.90it/s]\n",
      "100%|██████████| 428279/428279 [40:07<00:00, 177.92it/s]\n",
      "100%|██████████| 430296/430296 [07:02<00:00, 1018.92it/s]\n",
      "100%|██████████| 452872/452872 [08:54<00:00, 846.49it/s] \n",
      "100%|██████████| 430921/430921 [39:40<00:00, 181.04it/s]\n",
      "100%|██████████| 416968/416968 [04:01<00:00, 1724.97it/s]\n",
      "100%|██████████| 419095/419095 [03:15<00:00, 2140.84it/s]\n",
      "100%|██████████| 414141/414141 [03:36<00:00, 1913.98it/s]\n",
      "100%|██████████| 405620/405620 [03:38<00:00, 1855.23it/s]\n",
      "100%|██████████| 521732/521732 [01:07<00:00, 7724.60it/s]\n",
      "100%|██████████| 521319/521319 [00:23<00:00, 22442.14it/s]\n",
      "100%|██████████| 506815/506815 [00:37<00:00, 13594.37it/s]\n",
      "100%|██████████| 526050/526050 [01:00<00:00, 8706.46it/s] \n"
     ]
    }
   ],
   "source": [
    "reuse_perphase_base    = {}\n",
    "reuse_perphase_approx  = {}\n",
    "reuse_perphase_markov4 = {}\n",
    "reuse_perphase_markov8 = {}\n",
    "gran=6\n",
    "\n",
    "def get_addrs(data, phase):\n",
    "    df = pd.DataFrame(data)\n",
    "    return np.array(df[df['phase']==phase]['addr'], dtype=np.uint64)\n",
    "\n",
    "for phase in range(0,5):\n",
    "    reuse_perphase_base[phase] = reuse(get_addrs(stats['base'].cache_trace[1], phase), gran)\n",
    "    reuse_perphase_approx[phase] = reuse(get_addrs(stats['fr'][0].cache_trace[1], phase), gran)\n",
    "    reuse_perphase_markov4[phase] = reuse(get_addrs(stats['m4'][0].cache_trace[1], phase), gran)\n",
    "    reuse_perphase_markov8[phase] = reuse(get_addrs(stats['m8'][0].cache_trace[1], phase), gran)"
   ]
  },
  {
   "cell_type": "code",
   "execution_count": 2,
   "metadata": {},
   "outputs": [],
   "source": [
    "reuse_perphase_base=sim.load_object('reuse_backup/reuse_perphase_base.pkl')\n",
    "reuse_perphase_approx=sim.load_object('reuse_backup/reuse_perphase_approx.pkl')\n",
    "reuse_perphase_markov4=sim.load_object('reuse_backup/reuse_perphase_markov4.pkl')\n",
    "reuse_perphase_markov8=sim.load_object('reuse_backup/reuse_perphase_markov8.pkl')"
   ]
  },
  {
   "cell_type": "code",
   "execution_count": 32,
   "metadata": {},
   "outputs": [
    {
     "data": {
      "image/png": "[encoded data removed]",
      "text/plain": [
       "<Figure size 648x360 with 20 Axes>"
      ]
     },
     "metadata": {},
     "output_type": "display_data"
    }
   ],
   "source": [
    "binwidth=16\n",
    "#maxbin={1:50, 2:850, 3:225, 4:50}\n",
    "mb=500\n",
    "maxbin={0:mb,1:mb, 2:mb, 3:mb, 4:mb}\n",
    "\n",
    "yl=125000\n",
    "ylim={0:yl,1:yl, 2:yl, 3:yl, 4:yl}\n",
    "\n",
    "\n",
    "def bins(data, binwidth, maxbin):\n",
    "    #return range(min(data), min(maxbin, max(data) + binwidth), binwidth)\n",
    "   # print(data)\n",
    "    return range(min(data), maxbin, binwidth)\n",
    "\n",
    "def plot(ax, data, title, phase, plot_labels=False):\n",
    "    if not data:\n",
    "        data = [1]\n",
    "    ax.hist(data, bins=bins(data, binwidth, maxbin=maxbin[phase]), color='black')\n",
    "    ax.set_yscale('log')\n",
    "    ax.set_ylim((0,ylim[phase]))\n",
    "    #ax.suptitle(title)\n",
    "    ax.spines['top'].set_visible(False)\n",
    "    ax.spines['right'].set_visible(False)\n",
    "    ax.spines['left'].set_visible(False)\n",
    "    ax.get_yaxis().set_ticks([])\n",
    "    ax.get_xaxis().set_ticks([])\n",
    "    ax.set_xticklabels([''])\n",
    "    #ax.get_yaxis().set_ticks([30000])\n",
    "\n",
    "\n",
    "    if plot_labels:\n",
    "        ax.set_yticklabels(['30k'])\n",
    "\n",
    "    \n",
    "#plot(reuse_perphase_base[1], 'Base Cache', maxbin=maxbin[1])\n",
    "#plot(reuse_perphase_approx[1], 'Fixed Rate Cache', maxbin=maxbin[1])\n",
    "#plot(reuse_perphase_markov4[1], '4-State Markov Cache', maxbin=maxbin[1])\n",
    "#plot(reuse_perphase_markov8[1], '8-State Markov Cache', maxbin=maxbin[1])\n",
    "\n",
    "#i = 1\n",
    "\n",
    "fig, ax = plt.subplots(4, 5, figsize=(9,5))\n",
    "for i in range(5):\n",
    "    #phase = i+1\n",
    "    phase=i\n",
    "    \n",
    "    plot(ax[0,i], reuse_perphase_base[phase], 'Base Cache', phase, plot_labels=(phase==0))\n",
    "    plot(ax[1,i], reuse_perphase_approx[phase], 'Fixed Rate Cache', phase)\n",
    "    plot(ax[2,i], reuse_perphase_markov4[phase], '4-State Markov Cache', phase)\n",
    "    plot(ax[3,i], reuse_perphase_markov8[phase], '8-State Markov Cache', phase)\n",
    "\n",
    "for i in range(5):\n",
    "    ax[3,i].text(s='Phase {}'.format(i), y=-.2, x=.5, ha='center', transform=ax[3,i].transAxes)\n",
    "    \n",
    "    \n",
    "ax[0,0].text(s='Base', y=10000,x=100, size=10)\n",
    "ax[1,0].text(s='Fixed HR', y=10000,x=100, size=10)\n",
    "ax[2,0].text(s='Markov 4', y=10000,x=100, size=10)\n",
    "ax[3,0].text(s='Markov 8', y=10000,x=100, size=10)\n",
    "\n",
    "#fig.suptitle('Per-Phase Reuse Distance')\n",
    "plt.savefig('DataPMBS20/plots_{}/locality_per_phase.pdf'.format(sizel))\n",
    "plt.show()"
   ]
  },
  {
   "cell_type": "code",
   "execution_count": 18,
   "metadata": {},
   "outputs": [],
   "source": [
    "sim.save_object(reuse_perphase_base, 'reuse_backup/reuse_perphase_base.pkl')\n",
    "sim.save_object(reuse_perphase_approx, 'reuse_backup/reuse_perphase_approx.pkl')\n",
    "sim.save_object(reuse_perphase_markov4, 'reuse_backup/reuse_perphase_markov4.pkl')\n",
    "sim.save_object(reuse_perphase_markov8, 'reuse_backup/reuse_perphase_markov8.pkl')"
   ]
  },
  {
   "cell_type": "code",
   "execution_count": 119,
   "metadata": {},
   "outputs": [
    {
     "data": {
      "text/markdown": [
       "\n",
       "# Error in L1/L2/L3 hits\n"
      ],
      "text/plain": [
       "<IPython.core.display.Markdown object>"
      ]
     },
     "metadata": {},
     "output_type": "display_data"
    }
   ],
   "source": [
    "%%markdown\n",
    "\n",
    "# Error in L1/L2/L3 hits"
   ]
  },
  {
   "cell_type": "code",
   "execution_count": 150,
   "metadata": {},
   "outputs": [
    {
     "name": "stdout",
     "output_type": "stream",
     "text": [
      "\\begin{table}\n",
      "\\caption{Percent Change in Cache Stats}\\label{tab:loc_stats}\n",
      "\\begin{tabularx}{\\linewidth}{|l|X|X|X||X|}\n",
      "\\hline{}\n",
      " & L1 Hits & L2 Hits & L3 Hits & Cycles  \\\\ \\hline\\hline\n",
      "Base & 7.69e+06 & 7.78e+05 & 2.53e+05 & 1.37e+08 \\\\ \\hline\\hline\n",
      "Fixed Hit Rate & -0.07\\% & 54.11\\% & -71.11\\% & -27.91\\% \\\\ \\hline\n",
      "Markov 4 & -0.37\\% & 46.10\\% & -52.14\\% & -23.13\\% \\\\ \\hline\n",
      "Markov 8 & -0.19\\% & 12.13\\% & -4.18\\% & -7.59\\% \\\\ \\hline\n",
      "ALL & 0.07\\% & 10.12\\% & -4.65\\% & -7.99\\% \\\\ \\hline\n",
      "\\end{tabularx}\n",
      "\\end{table}\n",
      "\n"
     ]
    }
   ],
   "source": [
    "def get_stats(stats):\n",
    "    return np.array([stats.hitcount[0], stats.hitcount[1], stats.hitcount[2], stats.total_cycles])\n",
    "\n",
    "\n",
    "base = get_stats(stats['base'])\n",
    "\n",
    "acc2 = {}\n",
    "for name in stats:\n",
    "    if name is 'base':\n",
    "        continue\n",
    "        \n",
    "    dat = np.zeros((len(stats['fr']), 4))\n",
    "    \n",
    "    for i, st in enumerate(stats[name]):\n",
    "        dat[i,:] = get_stats(st)\n",
    "        \n",
    "    tmp = np.mean(dat, axis=0)\n",
    "    \n",
    "    tmp = [100*(tmp[i] - base[i]) / base[i] for i in range(len(tmp))]\n",
    "    \n",
    "    acc2[name]=tmp\n",
    "            \n",
    "names={'all':'ALL', 'm8':'Markov 8', 'm4':'Markov 4', 'fr':'Fixed Hit Rate'}\n",
    "        \n",
    "def latex_loc_stats(df):\n",
    "    s = \"\\\\begin{table}\\n\"\n",
    "    s += \"\\\\caption{Percent Change in Cache Stats}\\\\label{tab:loc_stats}\\n\"\n",
    "    s += \"\\\\begin{tabularx}{\\\\linewidth}{|l|X|X|X||X|}\\n\"\n",
    "    s += \"\\\\hline{}\\n\"\n",
    "    s += \" & L1 Hits & L2 Hits & L3 Hits & Cycles  \\\\\\\\ \\\\hline\\\\hline\\n\"        \n",
    "    s += \"{} & {:.2e} & {:.2e} & {:.2e} & {:.2e} \\\\\\\\ \\\\hline\\\\hline\\n\".format('Base', base[0], base[1], base[2], base[3])\n",
    "    for i in df:\n",
    "        s += \"{} & {:.2f}\\\\% & {:.2f}\\\\% & {:.2f}\\\\% & {:.2f}\\\\% \\\\\\\\ \\\\hline\\n\".format(names[i], df[i][0], df[i][1], df[i][2], df[i][3])\n",
    "    s += \"\\\\end{tabularx}\\n\\\\end{table}\\n\"\n",
    "    return s\n",
    "print(latex_loc_stats(acc2))\n"
   ]
  },
  {
   "cell_type": "code",
   "execution_count": null,
   "metadata": {},
   "outputs": [],
   "source": []
  },
  {
   "cell_type": "code",
   "execution_count": null,
   "metadata": {},
   "outputs": [],
   "source": []
  }
 ],
 "metadata": {
  "kernelspec": {
   "display_name": "Python 3",
   "language": "python",
   "name": "python3"
  },
  "language_info": {
   "codemirror_mode": {
    "name": "ipython",
    "version": 3
   },
   "file_extension": ".py",
   "mimetype": "text/x-python",
   "name": "python",
   "nbconvert_exporter": "python",
   "pygments_lexer": "ipython3",
   "version": "3.7.4"
  }
 },
 "nbformat": 4,
 "nbformat_minor": 4
}
