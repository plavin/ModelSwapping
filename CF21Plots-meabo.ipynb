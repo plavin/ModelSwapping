{
 "cells": [
  {
   "cell_type": "code",
   "execution_count": 1,
   "metadata": {},
   "outputs": [
    {
     "data": {
      "text/markdown": [
       "\n",
       "# Parsec Traces\n",
       "\n",
       "5 Programs\n",
       "\n"
      ],
      "text/plain": [
       "<IPython.core.display.Markdown object>"
      ]
     },
     "metadata": {},
     "output_type": "display_data"
    }
   ],
   "source": [
    "%%markdown\n",
    "\n",
    "# Parsec Traces\n",
    "\n",
    "5 Programs\n",
    "\n"
   ]
  },
  {
   "cell_type": "code",
   "execution_count": 2,
   "metadata": {},
   "outputs": [],
   "source": [
    "import sveCacheSim as sim\n",
    "import CacheModels\n",
    "import matplotlib.pyplot as plt\n",
    "import numpy as np\n",
    "import pandas as pd\n",
    "import pickle\n",
    "from tqdm import tqdm\n",
    "import importlib\n",
    "importlib.reload(sim)\n",
    "pass\n",
    "import os"
   ]
  },
  {
   "cell_type": "code",
   "execution_count": 3,
   "metadata": {},
   "outputs": [],
   "source": [
    "# Paths\n",
    "os.chdir('/storage/home/hhive1/plavin3/data/ModelSwapping')\n",
    "DATADIR = '/storage/home/hhive1/plavin3/scratch/DataV5/'"
   ]
  },
  {
   "cell_type": "code",
   "execution_count": 4,
   "metadata": {},
   "outputs": [],
   "source": [
    "# Params\n",
    "SIZE    = 'simdev'"
   ]
  },
  {
   "cell_type": "code",
   "execution_count": 5,
   "metadata": {},
   "outputs": [],
   "source": [
    "# Available Choices for parsec traces\n",
    "app_names        = ['blackscholes', 'bodytrack', 'ferret', 'fluidanimate', 'freqmine']\n",
    "parsec_sizes     = ['simdev', 'simsmall']\n",
    "models           = ['BASE', 'FR', 'M4', 'M8', 'ALL', 'ACC']\n",
    "suffixes         = ['data', 'model']\n",
    "\n",
    "meabo_sizes      = ['small', 'medium', 'large']"
   ]
  },
  {
   "cell_type": "code",
   "execution_count": 6,
   "metadata": {},
   "outputs": [],
   "source": [
    "# Represents a single data or model file. The memory can be repeatedly freed and reloaded with free() and reload().\n",
    "\n",
    "class ParsecFile:\n",
    "    def __init__(self, app, size, model, suffix, openFile=False):\n",
    "        if app not in app_names:\n",
    "            raise ValueError('ParsecFile.init: app [{}] invalid'.format(app))\n",
    "        if size not in parsec_sizes:\n",
    "            raise ValueError('ParsecFile.init: size [{}] invalid'.format(size))\n",
    "        if model not in models:\n",
    "            raise ValueError('ParsecFile.init: model [{}] invalid'.format(model))\n",
    "        if suffix not in suffixes:\n",
    "            raise ValueError('ParsecFile.init: suffix [{}] invalid'.format(suffix))\n",
    "        \n",
    "        self.object    = None \n",
    "        self.filename  = DATADIR + app + '-' + size + '-' + model + '-' + suffix + '.pkl'\n",
    "        self.shortname = os.path.splitext(os.path.basename(os.path.normpath(self.filename)))[0]\n",
    "        self.app       = app\n",
    "        self.size      = size\n",
    "        self.model     = model\n",
    "        self.suffix    = suffix\n",
    "        self.file      = None\n",
    "        \n",
    "        if not os.path.exists(self.filename):\n",
    "            raise Exception('Error in ParsecFile.init: file [{}] not found'.format(self.filename))\n",
    "            \n",
    "        if openFile:\n",
    "            self.object= sim.load_object(self.filename)\n",
    "    \n",
    "    def load(self):\n",
    "        self.object= sim.load_object(self.filename)\n",
    "    \n",
    "    def free(self):\n",
    "        if self.object != None:\n",
    "            del self.object\n",
    "            self.object = None\n",
    "            \n",
    "class MeaboFile(ParsecFile):\n",
    "    def __init__(self, size, model, suffix, openFile=False):\n",
    "        if size not in meabo_sizes:\n",
    "            raise ValueError('MeaboFile.init: size [{}] invalid'.format(size))\n",
    "        if model not in models:\n",
    "            raise ValueError('MeaboFile.init: model [{}] invalid'.format(model))\n",
    "        if suffix not in suffixes:\n",
    "            raise ValueError('MeaboFile.init: suffix [{}] invalid'.format(suffix))\n",
    "        \n",
    "        self.object    = None \n",
    "        self.filename  = DATADIR + 'meabo_' + size + '-' + model + '-' + suffix + '.pkl'\n",
    "        self.shortname = os.path.splitext(os.path.basename(os.path.normpath(self.filename)))[0]\n",
    "        self.size      = size\n",
    "        self.model     = model\n",
    "        self.suffix    = suffix\n",
    "        self.file      = None\n",
    "        self.app       = 'meabo'\n",
    "        \n",
    "        if not os.path.exists(self.filename):\n",
    "            raise Exception('Error in MeaboFile.init: file [{}] not found'.format(self.filename))\n",
    "            \n",
    "        if openFile:\n",
    "            self.object= sim.load_object(self.filename)\n",
    "            "
   ]
  },
  {
   "cell_type": "code",
   "execution_count": 7,
   "metadata": {},
   "outputs": [
    {
     "name": "stdout",
     "output_type": "stream",
     "text": [
      "Found all parsec files!\n",
      "Found all parsec-alt files!\n",
      "Found all meabo files!\n"
     ]
    }
   ],
   "source": [
    "# Check that all of our files exist\n",
    "missing  = False\n",
    "allfiles = []\n",
    "for app in app_names:\n",
    "    for m in models:\n",
    "        for s in suffixes:\n",
    "            try:\n",
    "                allfiles.append(ParsecFile(app, SIZE, m, s))\n",
    "            except:\n",
    "                missing = True\n",
    "                print('   Couldnt find {} {} {} {}'.format(app, SIZE, m, s))\n",
    "\n",
    "if missing: \n",
    "    print('Some parsec files weren\\'t found!')\n",
    "else:\n",
    "    print('Found all parsec files!')\n",
    "    \n",
    "missing  = False\n",
    "filesaltblack = []\n",
    "for app in app_names:\n",
    "    if app is 'blackscholes':\n",
    "        sz = 'simsmall'\n",
    "    else:\n",
    "        sz = 'simdev'\n",
    "    for m in models:\n",
    "        for s in suffixes:\n",
    "            try:\n",
    "                filesaltblack.append(ParsecFile(app, sz, m, s))\n",
    "            except:\n",
    "                missing = True\n",
    "                print('   Couldnt find {} {} {} {}'.format(app, SIZE, m, s))\n",
    "\n",
    "if missing: \n",
    "    print('Some parsec-alt files weren\\'t found!')\n",
    "else:\n",
    "    print('Found all parsec-alt files!')\n",
    "                \n",
    "missing  = False\n",
    "meabofiles = []\n",
    "for sz in meabo_sizes:\n",
    "    for m in models:\n",
    "        for s in suffixes:\n",
    "            try:\n",
    "                meabofiles.append(MeaboFile(sz, m, s))\n",
    "            except:\n",
    "                missing = True\n",
    "                print('   Couldnt find {} {} {}'.format(sz, m, s))\n",
    "\n",
    "if missing: \n",
    "    print('Some meabo files weren\\'t found!')\n",
    "else:\n",
    "    print('Found all meabo files!')\n",
    "\n",
    "\n",
    "    \n",
    "FILESETNAME = 'meabo' # should be either 'simdevaltblack' or 'simdev' or 'meabo'\n",
    "\n",
    "if FILESETNAME is 'simdevaltblack':\n",
    "    fileset = filesaltblack\n",
    "elif FILESETNAME is 'simdev':\n",
    "    fileset = allfiles\n",
    "elif FILESETNAME is 'meabo':\n",
    "    fileset = meabofiles\n",
    "    meabosize = 'large'\n"
   ]
  },
  {
   "cell_type": "code",
   "execution_count": 10,
   "metadata": {},
   "outputs": [
    {
     "name": "stdout",
     "output_type": "stream",
     "text": [
      "meabo_small-BASE-data\n",
      "meabo_small-FR-data\n",
      "meabo_small-M4-data\n",
      "meabo_small-M8-data\n",
      "meabo_small-ALL-data\n",
      "meabo_small-ACC-data\n",
      "meabo_medium-BASE-data\n",
      "meabo_medium-FR-data\n",
      "meabo_medium-M4-data\n",
      "meabo_medium-M8-data\n",
      "meabo_medium-ALL-data\n",
      "meabo_medium-ACC-data\n",
      "meabo_large-BASE-data\n",
      "meabo_large-FR-data\n",
      "meabo_large-M4-data\n",
      "meabo_large-M8-data\n",
      "meabo_large-ALL-data\n",
      "meabo_large-ACC-data\n"
     ]
    }
   ],
   "source": [
    "def listize(a):\n",
    "    if a and not isinstance(a, list):\n",
    "        return [a]\n",
    "    return a\n",
    "\n",
    "def validate(val, gold):\n",
    "    if val is None:\n",
    "        return\n",
    "    for v in val:\n",
    "        if v not in gold:\n",
    "            raise ValueError('{} is not a valid value'.format(v))\n",
    "    \n",
    "    \n",
    "# Utility function for working with lists of data as opposed to loading all the data\n",
    "# TODO: drop all this and use Dask\n",
    "def subset(files, app=None, model=None, size=None, suffix=None):\n",
    "\n",
    "    app    = listize(app)\n",
    "    model  = listize(model)\n",
    "    size   = listize(size)\n",
    "    suffix = listize(suffix)\n",
    "    \n",
    "    validate(app, app_names)\n",
    "    validate(size, parsec_sizes)\n",
    "    validate(model, models)\n",
    "    validate(suffix, suffixes)\n",
    "    \n",
    "    ret = files\n",
    "    \n",
    "    if app is not None:\n",
    "        files = ret\n",
    "        ret = []\n",
    "        for f in files:\n",
    "            if f.app in app:\n",
    "                ret.append(f)            \n",
    "\n",
    "    if model is not None:\n",
    "        files = ret\n",
    "        ret   = []\n",
    "        for f in files:\n",
    "            if f.model in model:\n",
    "                ret.append(f)\n",
    "        \n",
    "    if size is not None:\n",
    "        files = ret\n",
    "        ret   = []\n",
    "        for f in files:\n",
    "            if f.size in size:\n",
    "                ret.append(f)\n",
    "                \n",
    "    if suffix is not None:\n",
    "        files = ret\n",
    "        ret   = []\n",
    "        for f in files:\n",
    "            if f.suffix in suffix:\n",
    "                ret.append(f)\n",
    "    \n",
    "                \n",
    "    if len(ret) == 0:\n",
    "        raise Exception('subset() refuses to return an empty list')\n",
    "        \n",
    "    return ret\n",
    "\n",
    "def print_filenames(files):\n",
    "    files = listize(files)\n",
    "    for f in files:\n",
    "        print(f.shortname)\n",
    "        \n",
    "                \n",
    "print_filenames(subset(fileset, suffix='data'))\n",
    "#print(subset(allfiles, app='bodytrack', model='M4', suffix='data'))"
   ]
  },
  {
   "cell_type": "code",
   "execution_count": null,
   "metadata": {},
   "outputs": [],
   "source": []
  },
  {
   "cell_type": "code",
   "execution_count": 125,
   "metadata": {},
   "outputs": [
    {
     "data": {
      "text/markdown": [
       "\n",
       "### Phase Trace Object\n",
       "We first need to grab the phase trace object from the stats of our simulation. It is stored in `stats_*.phase_trace`. This object\n",
       "has type `PhaseTrace` which is defined in `PhaseDetector.py` and includes 4 fields.\n",
       "\n",
       "* `trace`: The phase assigned to each interval. -1 represents an interval not identified as part of a phase. \n",
       "* `nphases`: The number of unique phases identified.\n",
       "* `phase_count`: A list of length nphases where phase_count[i] is the number of intervals assigned to phase i\n",
       "* `phase_unique`: A list of length nphases where phase_unique[i] is the number of times phase i was entered\n",
       "\n",
       "Let's take a look at these for the 'large' trace. \n"
      ],
      "text/plain": [
       "<IPython.core.display.Markdown object>"
      ]
     },
     "metadata": {},
     "output_type": "display_data"
    }
   ],
   "source": [
    "%%markdown\n",
    "\n",
    "### Phase Trace Object\n",
    "We first need to grab the phase trace object from the stats of our simulation. It is stored in `stats_*.phase_trace`. This object\n",
    "has type `PhaseTrace` which is defined in `PhaseDetector.py` and includes 4 fields.\n",
    "\n",
    "* `trace`: The phase assigned to each interval. -1 represents an interval not identified as part of a phase. \n",
    "* `nphases`: The number of unique phases identified.\n",
    "* `phase_count`: A list of length nphases where phase_count[i] is the number of intervals assigned to phase i\n",
    "* `phase_unique`: A list of length nphases where phase_unique[i] is the number of times phase i was entered\n",
    "\n",
    "Let's take a look at these for the 'large' trace. "
   ]
  },
  {
   "cell_type": "code",
   "execution_count": 30,
   "metadata": {
    "scrolled": true
   },
   "outputs": [
    {
     "name": "stdout",
     "output_type": "stream",
     "text": [
      "meabo_small-BASE-data :\n",
      "  Identified 6 phases\n",
      "  Number of intervals assigned to each phase [3, 11, 43, 21, 8, 32]\n",
      "meabo_medium-BASE-data :\n",
      "  Identified 6 phases\n",
      "  Number of intervals assigned to each phase [3, 11, 77, 47, 21, 69]\n",
      "meabo_large-BASE-data :\n",
      "  Identified 7 phases\n",
      "  Number of intervals assigned to each phase [3, 9, 45, 114, 231, 112, 337]\n"
     ]
    }
   ],
   "source": [
    "def phase_summary(file):\n",
    "    file.load()\n",
    "    \n",
    "    tr=file.object.phase_trace\n",
    "    print(file.shortname, ':')\n",
    "    print('  Identified', tr.nphases, 'phases')\n",
    "    print('  Number of intervals assigned to each phase', tr.phase_count)\n",
    "    #print('  Number of times each phase was entered', tr.phase_unique)\n",
    "    file.free()\n",
    "    \n",
    "for file in subset(fileset, model='BASE', suffix='data'):\n",
    "    phase_summary(file)\n",
    "#for tr in slu.keys():\n",
    "#    if 'BASE' in slu[tr].keys():\n",
    "#        phase_summary(tr, slu[tr]['BASE'])"
   ]
  },
  {
   "cell_type": "code",
   "execution_count": 23,
   "metadata": {},
   "outputs": [
    {
     "data": {
      "image/png": "[encoded data removed]",
      "text/plain": [
       "<Figure size 1152x288 with 3 Axes>"
      ]
     },
     "metadata": {
      "needs_background": "light"
     },
     "output_type": "display_data"
    }
   ],
   "source": [
    "def plot_trace(ax, label, trace, axis_labels):\n",
    "    ax.scatter([*range(len(trace))], trace,s=2, color='black')\n",
    "    ax.spines['top'].set_visible(False)\n",
    "    ax.spines['right'].set_visible(False)\n",
    "    ax.set_title(label)\n",
    "    ax.set_yticks([-1, *range(max(trace)+1)])\n",
    "    if axis_labels:\n",
    "        ax.set_ylabel('Phase Number (-1 is uncategorized)')\n",
    "        ax.set_xlabel('Interval number (Interval = 10k inst)')\n",
    "\n",
    "local_files = subset(fileset, model='BASE', suffix='data')\n",
    "fig, ax = plt.subplots(1, len(local_files), figsize=(16,4))\n",
    "\n",
    "for idx, file in enumerate(local_files):\n",
    "    file.load()\n",
    "    if FILESETNAME == 'meabo':\n",
    "        label = file.size\n",
    "    else:\n",
    "        label = file.app\n",
    "    plot_trace(ax[idx], label,  file.object.phase_trace.trace,  idx == 0)\n",
    "    file.free()\n",
    "    \n",
    "plt.savefig(DATADIR+'/plots/phase-traces-{}.svg'.format(FILESETNAME))\n",
    "plt.show()"
   ]
  },
  {
   "cell_type": "code",
   "execution_count": 24,
   "metadata": {
    "scrolled": true
   },
   "outputs": [
    {
     "name": "stdout",
     "output_type": "stream",
     "text": [
      "->meabo accuracy\n"
     ]
    },
    {
     "ename": "Exception",
     "evalue": "Too man files in list",
     "output_type": "error",
     "traceback": [
      "\u001b[0;31m---------------------------------------------------------------------------\u001b[0m",
      "\u001b[0;31mException\u001b[0m                                 Traceback (most recent call last)",
      "\u001b[0;32m<ipython-input-24-8179625ce0fd>\u001b[0m in \u001b[0;36m<module>\u001b[0;34m\u001b[0m\n\u001b[1;32m     43\u001b[0m     \u001b[0mbase\u001b[0m   \u001b[0;34m=\u001b[0m \u001b[0msubset\u001b[0m\u001b[0;34m(\u001b[0m\u001b[0mfileset\u001b[0m\u001b[0;34m,\u001b[0m \u001b[0mmodel\u001b[0m\u001b[0;34m=\u001b[0m\u001b[0;34m'BASE'\u001b[0m\u001b[0;34m,\u001b[0m \u001b[0mapp\u001b[0m\u001b[0;34m=\u001b[0m\u001b[0mapp\u001b[0m\u001b[0;34m,\u001b[0m \u001b[0msuffix\u001b[0m\u001b[0;34m=\u001b[0m\u001b[0;34m'data'\u001b[0m\u001b[0;34m)\u001b[0m\u001b[0;34m\u001b[0m\u001b[0;34m\u001b[0m\u001b[0m\n\u001b[1;32m     44\u001b[0m     \u001b[0;32mif\u001b[0m \u001b[0mlen\u001b[0m\u001b[0;34m(\u001b[0m\u001b[0mbase\u001b[0m\u001b[0;34m)\u001b[0m \u001b[0;34m>\u001b[0m \u001b[0;36m1\u001b[0m\u001b[0;34m:\u001b[0m\u001b[0;34m\u001b[0m\u001b[0;34m\u001b[0m\u001b[0m\n\u001b[0;32m---> 45\u001b[0;31m         \u001b[0;32mraise\u001b[0m \u001b[0mException\u001b[0m\u001b[0;34m(\u001b[0m\u001b[0;34m'Too man files in list'\u001b[0m\u001b[0;34m)\u001b[0m\u001b[0;34m\u001b[0m\u001b[0;34m\u001b[0m\u001b[0m\n\u001b[0m\u001b[1;32m     46\u001b[0m     \u001b[0mbase\u001b[0m \u001b[0;34m=\u001b[0m \u001b[0mbase\u001b[0m\u001b[0;34m[\u001b[0m\u001b[0;36m0\u001b[0m\u001b[0;34m]\u001b[0m\u001b[0;34m\u001b[0m\u001b[0;34m\u001b[0m\u001b[0m\n\u001b[1;32m     47\u001b[0m     \u001b[0mothers\u001b[0m \u001b[0;34m=\u001b[0m \u001b[0msubset\u001b[0m\u001b[0;34m(\u001b[0m\u001b[0mfileset\u001b[0m\u001b[0;34m,\u001b[0m \u001b[0mmodel\u001b[0m\u001b[0;34m=\u001b[0m\u001b[0;34m[\u001b[0m\u001b[0;34m'FR'\u001b[0m\u001b[0;34m,\u001b[0m \u001b[0;34m'M4'\u001b[0m\u001b[0;34m,\u001b[0m \u001b[0;34m'M8'\u001b[0m\u001b[0;34m,\u001b[0m \u001b[0;34m'ALL'\u001b[0m\u001b[0;34m,\u001b[0m \u001b[0;34m'ACC'\u001b[0m\u001b[0;34m]\u001b[0m\u001b[0;34m,\u001b[0m \u001b[0mapp\u001b[0m\u001b[0;34m=\u001b[0m\u001b[0mapp\u001b[0m\u001b[0;34m,\u001b[0m \u001b[0msuffix\u001b[0m\u001b[0;34m=\u001b[0m\u001b[0;34m'data'\u001b[0m\u001b[0;34m)\u001b[0m\u001b[0;34m\u001b[0m\u001b[0;34m\u001b[0m\u001b[0m\n",
      "\u001b[0;31mException\u001b[0m: Too man files in list"
     ]
    }
   ],
   "source": [
    "def get_acc(st1, st2, phase):\n",
    "    # t1 is assumed to be from the base cache\n",
    "    \n",
    "    t1 = st1.cache_trace[0] # cache trace from st1\n",
    "    t2 = st2.cache_trace[0] # cache trace from st2\n",
    "    \n",
    "    # Just get accesses where were are in phase `phase` and in state is Swapped (2)\n",
    "    pick_state = t2['state'] == 2\n",
    "    pick_phase = t2['phase'] == phase\n",
    "    \n",
    "    pick = np.logical_and(pick_state, pick_phase)\n",
    "    \n",
    "    # Get the hit/miss from each \n",
    "    t1_hits = t1['isHit'][pick]\n",
    "    t2_hits = t2['isHit'][pick]\n",
    "    \n",
    "    num_correct = np.sum(np.equal(t1_hits, t2_hits))\n",
    "    acc = num_correct / len(t1_hits)\n",
    "    \n",
    "    return acc\n",
    "    \n",
    "    \n",
    "def get_stats(base, others):\n",
    "    nphases = base.phase_trace.nphases\n",
    "    name_map={'FR':'Fixed Rate', 'M4': 'Markov 4', 'M8':'Markov 8', 'ALL':'All', 'ACC':'ACC'}\n",
    "    data = {}\n",
    "    for file in others:\n",
    "        file.load()\n",
    "        _acc = []\n",
    "        for i in range(nphases):\n",
    "            _acc.append(get_acc(base, file.object, i))\n",
    "        data[name_map[file.model]] = _acc\n",
    "        file.free()\n",
    "    return pd.DataFrame(data)\n",
    "\n",
    "acc = {}\n",
    "\n",
    "#local_files = subset(allfiles, suffix='data')\n",
    "#print_filenames(local_files)\n",
    "\n",
    "for app in app_names:\n",
    "    print('->{} accuracy'.format(app))\n",
    "    base   = subset(fileset, model='BASE', app=app, suffix='data')\n",
    "    if len(base) > 1:\n",
    "        raise Exception('Too man files in list')\n",
    "    base = base[0]\n",
    "    others = subset(fileset, model=['FR', 'M4', 'M8', 'ALL', 'ACC'], app=app, suffix='data')\n",
    "    \n",
    "    base.load()\n",
    "    acc[app] = get_stats(base.object, others)\n",
    "    print(acc[app])\n",
    "    print()\n",
    "    base.free()\n",
    "\n",
    "sim.save_object(acc, DATADIR+'intermediate/acc-{}.pkl'.format(FILESETNAME))\n"
   ]
  },
  {
   "cell_type": "code",
   "execution_count": 218,
   "metadata": {},
   "outputs": [
    {
     "data": {
      "image/png": "[encoded data removed]",
      "text/plain": [
       "<Figure size 612x720 with 5 Axes>"
      ]
     },
     "metadata": {
      "needs_background": "light"
     },
     "output_type": "display_data"
    }
   ],
   "source": [
    "nn=1\n",
    "name_map={'FR':'Fixed Rate', 'M4': 'Markov 4', 'M8':'Markov 8', 'ALL':'All', 'ACC':'ACC'}\n",
    "\n",
    "local_models = [name_map[x] for x in ['FR', 'M4', 'M8','ACC']]\n",
    "def acc_plot(ax, acc, tr):\n",
    "    df = acc[tr]\n",
    "    \n",
    "    # Subset models\n",
    "    df = df[local_models]\n",
    "    ny = len(df)\n",
    "    #ax=plt.gca()\n",
    "    df.plot(xticks=[*range(0,ny,1)],\n",
    "            yticks=[i/nn for i in range(0,nn+1)], \n",
    "                 title='{} per-phase accuracy'.format(tr),ax=ax, \n",
    "                 marker='o', linestyle=(0, (2,4)))\n",
    "    ax.set_ylabel('Accuracy')\n",
    "    ax.set_xlabel('Phase')\n",
    "    #ax.get_legend().remove()\n",
    "\n",
    "    ax.spines['top'].set_visible(False)\n",
    "    ax.spines['right'].set_visible(False)\n",
    "    cmap = plt.get_cmap(\"tab10\")\n",
    "    #ax.text( x=ny-1+.1, y=df['Fixed Rate'][ny-1], s='Fixed Rate', color=cmap(0))\n",
    "    #ax.text( x=4.1, y=df['Markov 4'][ny-1], s='Markov 4', color=cmap(1))\n",
    "    #ax.text( x=4.1, y=df['Markov 8'][ny-1], s='Markov 8', color=cmap(2))\n",
    "    plt.tight_layout()\n",
    "\n",
    "fig, ax = plt.subplots(len(app_names), 1, figsize=(8.5,10))\n",
    "for idx, tr in enumerate(app_names):\n",
    "    acc_plot(ax[idx], acc, tr)\n",
    "    #acc_plot(acc, slu, 'steam2')\n",
    "plt.savefig(DATADIR+'/plots/per-phase-accuracy-{}.svg'.format(FILESETNAME))"
   ]
  },
  {
   "cell_type": "code",
   "execution_count": 7,
   "metadata": {},
   "outputs": [
    {
     "name": "stdout",
     "output_type": "stream",
     "text": [
      "blackscholes\n",
      "bodytrack\n",
      "ferret\n",
      "fluidanimate\n",
      "freqmine\n"
     ]
    },
    {
     "data": {
      "image/png": "[encoded data removed]",
      "text/plain": [
       "<Figure size 720x648 with 5 Axes>"
      ]
     },
     "metadata": {
      "needs_background": "light"
     },
     "output_type": "display_data"
    }
   ],
   "source": [
    "nn=1\n",
    "maxidx=len(slu.keys())\n",
    "barwidth=.2\n",
    "\n",
    "colors = plt.cm.get_cmap('tab10').colors\n",
    "colormap={'All': colors[0], 'Markov 4':colors[1], 'Markov 8':colors[2], 'Fixed Rate':colors[3]}\n",
    "\n",
    "\n",
    "def acc_plot(ax, acc, slu, tr, idx):\n",
    "    df = acc[tr]\n",
    "    ny = slu[tr]['BASE'].phase_trace.nphases\n",
    "    #ax=plt.gca()\n",
    "    print(tr)\n",
    "    for idx,k in enumerate(acc[tr]):\n",
    "        bars=acc[tr][k]\n",
    "        r = np.arange(len(bars)) + barwidth*idx\n",
    "        ax.bar(r, bars, color=colormap[k], width=barwidth, edgecolor='white', label='var1')\n",
    "\n",
    "    #ax.xticks([r + barwidth for r in range(len(bars))], ['A', 'B', 'C', 'D'])\n",
    "    ax.set_yticks([0,1])\n",
    "    ax.set_xticks([*range(0,22,1)])\n",
    "    \n",
    "\n",
    "    \n",
    "    #df.plot(xticks=[*range(0,ny,1)],\n",
    "    #        yticks=[i/nn for i in range(0,nn+1)], \n",
    "    #             title='{}'.format(tr),ax=ax, \n",
    "    #             marker='o', linestyle=(0, (2,4)))\n",
    "    #if idx == maxidx - 1:\n",
    "    #    ax.set_ylabel('Accuracy')\n",
    "    #    ax.set_xlabel('Phase')\n",
    "\n",
    "    #ax.get_legend().remove()\n",
    "\n",
    "    ax.spines['top'].set_visible(False)\n",
    "    ax.spines['right'].set_visible(False)\n",
    "    #cmap = plt.get_cmap(\"tab10\")\n",
    "\n",
    "    #plt.tight_layout()\n",
    "\n",
    "fig, ax = plt.subplots(len(slu.keys()), 1, figsize=(10,9))\n",
    "for idx, tr in enumerate(slu.keys()):\n",
    "    if 'BASE' in slu[tr].keys():\n",
    "        acc_plot(ax[idx], acc, slu, tr, idx)\n",
    "    #acc_plot(acc, slu, 'steam2')\n",
    "#plt.savefig('plots/per-phase-accuracy.svg')"
   ]
  },
  {
   "cell_type": "code",
   "execution_count": 219,
   "metadata": {},
   "outputs": [
    {
     "name": "stdout",
     "output_type": "stream",
     "text": [
      "Working on blackscholes\n",
      "Working on bodytrack\n",
      "Working on ferret\n",
      "Working on fluidanimate\n",
      "Working on freqmine\n",
      "             app model        L1         L2         L3     cycles\n",
      "0   blackscholes    FR  0.142755  59.984234 -85.226123 -43.703494\n",
      "1   blackscholes    M4  0.081033  57.510326 -81.512839 -41.299360\n",
      "2   blackscholes    M8 -0.185856  52.866413 -73.386895 -35.394945\n",
      "3   blackscholes   ALL -0.213015  53.430998 -73.879713 -35.578503\n",
      "4   blackscholes   ACC -0.182279  52.864388 -73.439449 -35.415795\n",
      "5      bodytrack    FR  0.063947  90.610497 -39.477542 -38.487638\n",
      "6      bodytrack    M4 -0.144719  91.284288 -38.334284 -36.767313\n",
      "7      bodytrack    M8 -0.448652  84.064544 -31.873645 -30.930248\n",
      "8      bodytrack   ALL -0.383725  82.632478 -30.985314 -31.009528\n",
      "9      bodytrack   ACC -0.365063  82.154396 -32.246690 -30.886170\n",
      "10        ferret    FR  1.208474  37.032825 -53.420955 -31.134320\n",
      "11        ferret    M4  1.484294  32.753992 -51.722209 -29.780169\n",
      "12        ferret    M8  0.365291  37.336819 -45.862191 -26.471810\n",
      "13        ferret   ALL  0.673146  35.167177 -46.116531 -26.874089\n",
      "14        ferret   ACC  0.594329  35.475172 -45.999597 -26.549401\n",
      "15  fluidanimate    FR  3.756862  -2.406898 -83.053985 -37.736457\n",
      "16  fluidanimate    M4  3.721808  -2.246124 -83.887411 -37.180865\n",
      "17  fluidanimate    M8  3.331102   0.330624 -78.932023 -35.026580\n",
      "18  fluidanimate   ALL  3.750794  -3.237847 -83.021084 -36.724180\n",
      "19  fluidanimate   ACC  3.312272   0.515965 -78.541321 -35.024532\n",
      "20      freqmine    FR  1.225235  17.419305 -45.085833 -21.175781\n",
      "21      freqmine    M4  0.991521  17.443559 -44.505145 -17.977543\n",
      "22      freqmine    M8  0.489460  21.017236 -36.964434 -15.984839\n",
      "23      freqmine   ALL  1.029005  15.855458 -42.360639 -17.670066\n",
      "24      freqmine   ACC  0.526927  20.503006 -37.109045 -16.023918\n"
     ]
    }
   ],
   "source": [
    "def pct_change(new, old):\n",
    "    ret = []\n",
    "    for i,v in enumerate(new):\n",
    "        ret.append((v - old[i])/abs(old[i])*100)\n",
    "    return ret\n",
    "\n",
    "\n",
    "dd = []\n",
    "for app in app_names:\n",
    "    print('Working on {}'.format(app))\n",
    "    base = subset(fileset, app=app, model='BASE')[0]\n",
    "    base.load()\n",
    "    for model in ['FR', 'M4', 'M8', 'ALL', 'ACC']:\n",
    "        file = subset(fileset, app=app, model=model)[0]\n",
    "        file.load()\n",
    "\n",
    "        new = file.object.hitcount\n",
    "        old = base.object.hitcount\n",
    "    \n",
    "        new.append(file.object.total_cycles)\n",
    "        old.append(base.object.total_cycles)\n",
    "                   \n",
    "        pct = [app, model, *pct_change(new, old)]\n",
    "        dd.append(pct)\n",
    "\n",
    "        file.free()\n",
    "    base.free()\n",
    "    \n",
    "pct_change_df = pd.DataFrame(dd, columns=['app', 'model', 'L1', 'L2', 'L3', 'cycles'])\n",
    "print(pct_change_df)\n",
    "sim.save_object(pct_change_df, DATADIR+'/intermediate/pct_change-{}.pkl'.format(FILESETNAME))"
   ]
  },
  {
   "cell_type": "code",
   "execution_count": 220,
   "metadata": {},
   "outputs": [
    {
     "name": "stdout",
     "output_type": "stream",
     "text": [
      "Grouped By Model\n",
      "             app model        L1         L2         L3     cycles\n",
      "0   blackscholes    FR  0.142755  59.984234 -85.226123 -43.703494\n",
      "5      bodytrack    FR  0.063947  90.610497 -39.477542 -38.487638\n",
      "10        ferret    FR  1.208474  37.032825 -53.420955 -31.134320\n",
      "15  fluidanimate    FR  3.756862  -2.406898 -83.053985 -37.736457\n",
      "20      freqmine    FR  1.225235  17.419305 -45.085833 -21.175781\n",
      "             app model        L1         L2         L3     cycles\n",
      "1   blackscholes    M4  0.081033  57.510326 -81.512839 -41.299360\n",
      "6      bodytrack    M4 -0.144719  91.284288 -38.334284 -36.767313\n",
      "11        ferret    M4  1.484294  32.753992 -51.722209 -29.780169\n",
      "16  fluidanimate    M4  3.721808  -2.246124 -83.887411 -37.180865\n",
      "21      freqmine    M4  0.991521  17.443559 -44.505145 -17.977543\n",
      "             app model        L1         L2         L3     cycles\n",
      "2   blackscholes    M8 -0.185856  52.866413 -73.386895 -35.394945\n",
      "7      bodytrack    M8 -0.448652  84.064544 -31.873645 -30.930248\n",
      "12        ferret    M8  0.365291  37.336819 -45.862191 -26.471810\n",
      "17  fluidanimate    M8  3.331102   0.330624 -78.932023 -35.026580\n",
      "22      freqmine    M8  0.489460  21.017236 -36.964434 -15.984839\n",
      "             app model        L1         L2         L3     cycles\n",
      "3   blackscholes   ALL -0.213015  53.430998 -73.879713 -35.578503\n",
      "8      bodytrack   ALL -0.383725  82.632478 -30.985314 -31.009528\n",
      "13        ferret   ALL  0.673146  35.167177 -46.116531 -26.874089\n",
      "18  fluidanimate   ALL  3.750794  -3.237847 -83.021084 -36.724180\n",
      "23      freqmine   ALL  1.029005  15.855458 -42.360639 -17.670066\n",
      "             app model        L1         L2         L3     cycles\n",
      "4   blackscholes   ACC -0.182279  52.864388 -73.439449 -35.415795\n",
      "9      bodytrack   ACC -0.365063  82.154396 -32.246690 -30.886170\n",
      "14        ferret   ACC  0.594329  35.475172 -45.999597 -26.549401\n",
      "19  fluidanimate   ACC  3.312272   0.515965 -78.541321 -35.024532\n",
      "24      freqmine   ACC  0.526927  20.503006 -37.109045 -16.023918\n",
      "\n",
      "Grouped By Apps\n",
      "             app model        L1         L2         L3     cycles\n",
      "0   blackscholes    FR  0.142755  59.984234 -85.226123 -43.703494\n",
      "1   blackscholes    M4  0.081033  57.510326 -81.512839 -41.299360\n",
      "2   blackscholes    M8 -0.185856  52.866413 -73.386895 -35.394945\n",
      "3   blackscholes   ALL -0.213015  53.430998 -73.879713 -35.578503\n",
      "4   blackscholes   ACC -0.182279  52.864388 -73.439449 -35.415795\n",
      "5      bodytrack    FR  0.063947  90.610497 -39.477542 -38.487638\n",
      "6      bodytrack    M4 -0.144719  91.284288 -38.334284 -36.767313\n",
      "7      bodytrack    M8 -0.448652  84.064544 -31.873645 -30.930248\n",
      "8      bodytrack   ALL -0.383725  82.632478 -30.985314 -31.009528\n",
      "9      bodytrack   ACC -0.365063  82.154396 -32.246690 -30.886170\n",
      "10        ferret    FR  1.208474  37.032825 -53.420955 -31.134320\n",
      "11        ferret    M4  1.484294  32.753992 -51.722209 -29.780169\n",
      "12        ferret    M8  0.365291  37.336819 -45.862191 -26.471810\n",
      "13        ferret   ALL  0.673146  35.167177 -46.116531 -26.874089\n",
      "14        ferret   ACC  0.594329  35.475172 -45.999597 -26.549401\n",
      "15  fluidanimate    FR  3.756862  -2.406898 -83.053985 -37.736457\n",
      "16  fluidanimate    M4  3.721808  -2.246124 -83.887411 -37.180865\n",
      "17  fluidanimate    M8  3.331102   0.330624 -78.932023 -35.026580\n",
      "18  fluidanimate   ALL  3.750794  -3.237847 -83.021084 -36.724180\n",
      "19  fluidanimate   ACC  3.312272   0.515965 -78.541321 -35.024532\n",
      "20      freqmine    FR  1.225235  17.419305 -45.085833 -21.175781\n",
      "21      freqmine    M4  0.991521  17.443559 -44.505145 -17.977543\n",
      "22      freqmine    M8  0.489460  21.017236 -36.964434 -15.984839\n",
      "23      freqmine   ALL  1.029005  15.855458 -42.360639 -17.670066\n",
      "24      freqmine   ACC  0.526927  20.503006 -37.109045 -16.023918\n"
     ]
    }
   ],
   "source": [
    "#pct_change_df = sim.load_object(DATADIR+'/intermediate/pct_change.pkl')\n",
    "\n",
    "print('Grouped By Model')\n",
    "for m in ['FR', 'M4', 'M8', 'ALL', 'ACC']:\n",
    "    print(pct_change_df[pct_change_df['model']==m])\n",
    "    \n",
    "print()\n",
    "print('Grouped By Apps')\n",
    "print(pct_change_df)\n",
    "#for app in app_names:\n",
    "#    print(pct_change_df[pct_change_df['app']==app])\n",
    "        \n"
   ]
  },
  {
   "cell_type": "code",
   "execution_count": 94,
   "metadata": {},
   "outputs": [
    {
     "data": {
      "text/markdown": [
       "\n",
       "## Accuracy Over Time\n",
       "Let's now take a look at how accuracy changes over the course of a simulation. Does it get worse over time? \n",
       "\n",
       "As we're using the small trace, we won't see much here. Please re-run the notebook to get a better large chart. \n",
       "\n",
       "The reason a legend isn't generated is because it is hard to place it well. To get a legend, re-run the plot and uncomment the line labeled as such. \n",
       "Then grab the legend and paste it onto the plot in a good area. \n"
      ],
      "text/plain": [
       "<IPython.core.display.Markdown object>"
      ]
     },
     "metadata": {},
     "output_type": "display_data"
    }
   ],
   "source": [
    "%%markdown\n",
    "\n",
    "## Accuracy Over Time\n",
    "Let's now take a look at how accuracy changes over the course of a simulation. Does it get worse over time? \n",
    "\n",
    "As we're using the small trace, we won't see much here. Please re-run the notebook to get a better large chart. \n",
    "\n",
    "The reason a legend isn't generated is because it is hard to place it well. To get a legend, re-run the plot and uncomment the line labeled as such. \n",
    "Then grab the legend and paste it onto the plot in a good area. "
   ]
  },
  {
   "cell_type": "code",
   "execution_count": 92,
   "metadata": {},
   "outputs": [],
   "source": [
    "interval_len = 10000\n",
    "def acc_over_time(st1, st2, phase):\n",
    "    \n",
    "    t1 = st1.cache_trace[0] # cache trace from st1\n",
    "    t2 = st2.cache_trace[0] # cache trace from st2\n",
    "    \n",
    "    # Just get accesses where were are in phase `phase` and in state is Swapped (2)\n",
    "    pick_state = t2['state'] == 2\n",
    "    pick_phase = t2['phase'] == phase\n",
    "    \n",
    "    pick = np.logical_and(pick_state, pick_phase)\n",
    "    \n",
    "    # Get the hit/miss from each \n",
    "    t1_hits = t1['isHit'][pick]\n",
    "    t2_hits = t2['isHit'][pick]\n",
    "    \n",
    "    nintervals = int(len(t1_hits) // interval_len)-1\n",
    "    \n",
    "    acc = []\n",
    "    \n",
    "    for i in range(nintervals):\n",
    "        start = i*interval_len\n",
    "        end   = (i+1)*interval_len\n",
    "        t1_hits_rest = t1_hits[start:end]\n",
    "        t2_hits_rest = t2_hits[start:end]\n",
    "    \n",
    "        num_correct = np.sum(np.equal(t1_hits_rest, t2_hits_rest))\n",
    "        acc.append(num_correct / interval_len)\n",
    "    \n",
    "    return acc\n",
    "\n",
    "nphases = stats['base'].phase_trace.nphases\n",
    "name_map={'fr':'Fixed Rate', 'm4': 'Markov 4', 'm8':'Markov 8', 'all':'All'}\n",
    "all_df = {}\n",
    "for i in range(nphases):\n",
    "    data = {}\n",
    "    for name in stats:\n",
    "        if name is 'base':\n",
    "            continue\n",
    "        data[name_map[name]] = acc_over_time(stats['base'], stats[name], i)\n",
    "    data_df = pd.DataFrame(data)    \n",
    "    all_df[i] = data_df\n"
   ]
  },
  {
   "cell_type": "code",
   "execution_count": 120,
   "metadata": {
    "jupyter": {
     "source_hidden": true
    }
   },
   "outputs": [
    {
     "data": {
      "image/png": "[encoded data removed]",
      "text/plain": [
       "<Figure size 864x216 with 5 Axes>"
      ]
     },
     "metadata": {
      "needs_background": "light"
     },
     "output_type": "display_data"
    }
   ],
   "source": [
    "pretty=['Initialization', 'Marker', 'High Locality', 'Vector Add', 'Random']\n",
    "def acc_over_time_plot(ax, approx, m4, m8, phase):\n",
    "    ax.plot(approx, label='Fixed Rate')\n",
    "    ax.plot(m4, label='Markov 4')\n",
    "    ax.plot(m8, label='Markov 8')    \n",
    "    ax.set_ylim((0,1))\n",
    "    ax.spines['top'].set_visible(False)\n",
    "    ax.spines['right'].set_visible(False)\n",
    "    ax.spines['left'].set_visible(False)\n",
    "    ax.get_yaxis().set_ticks([])\n",
    "    ax.set_title('Phase {}'.format(phase))\n",
    "    ax.text(x=0, y=.05, s=pretty[phase], color='grey')\n",
    "    if phase == 0:\n",
    "        ax.set_ylabel('Accuracy')\n",
    "        ax.get_yaxis().set_ticks([.2, .4, .6, .8, 1.])\n",
    "        ax.set_xlabel('Interval number')\n",
    "    if phase == 4:\n",
    "        pass\n",
    "        #ax.legend(loc=10) ##UNCOMMENT ME FOR LEGEND\n",
    "\n",
    "fig, ax = plt.subplots(1, 5, figsize=(12,3), squeeze=False)\n",
    "for phase in range(5):    \n",
    "    acc_over_time_plot(ax[0,phase], \n",
    "          all_df[phase]['Fixed Rate'],\n",
    "          all_df[phase]['Markov 4'],\n",
    "          all_df[phase]['Markov 8'],\n",
    "          phase)\n",
    "#plt.savefig('plots/acc-over-time.svg')\n",
    "plt.show()\n"
   ]
  },
  {
   "cell_type": "code",
   "execution_count": 95,
   "metadata": {},
   "outputs": [
    {
     "data": {
      "text/markdown": [
       "\n",
       "## Accuracy as a function of Model Size\n",
       "\n",
       "This is just a fun little plot. \n"
      ],
      "text/plain": [
       "<IPython.core.display.Markdown object>"
      ]
     },
     "metadata": {},
     "output_type": "display_data"
    }
   ],
   "source": [
    "%%markdown\n",
    "\n",
    "## Accuracy as a function of Model Size\n",
    "\n",
    "This is just a fun little plot. "
   ]
  },
  {
   "cell_type": "code",
   "execution_count": 121,
   "metadata": {},
   "outputs": [
    {
     "data": {
      "image/png": "[encoded data removed]",
      "text/plain": [
       "<Figure size 432x288 with 1 Axes>"
      ]
     },
     "metadata": {
      "needs_background": "light"
     },
     "output_type": "display_data"
    }
   ],
   "source": [
    "bs=8192\n",
    "sz = {'base':1, 'fr':24/bs, 'm4':(3 * (4 * 4) * 8)/bs, 'm8':(3 * (8 * 8) * 8)/bs}\n",
    "\n",
    "fig, ax = plt.subplots()\n",
    "cmap = plt.get_cmap(\"tab10\")\n",
    "for i in range(5):\n",
    "    ax.scatter([sz['fr']], accuracy_df['Fixed Rate'][i], marker='${}$'.format(i), color=cmap(0), s=60)\n",
    "for i in range(5):\n",
    "    ax.scatter([sz['m4']], accuracy_df['Markov 4'][i], marker='${}$'.format(i), color=cmap(1), s=60)\n",
    "for i in range(5):\n",
    "    ax.scatter([sz['m8']], accuracy_df['Markov 8'][i], marker='${}$'.format(i), color=cmap(2), s=60)\n",
    "ax.scatter(1,1,  color=cmap(3))\n",
    "ax.set_xscale('log')\n",
    "\n",
    "\n",
    "labs=np.float64([24/bs, (3 * (4 * 4) * 8)/bs, (3 * (8 * 8) * 8)/bs, 1])*100\n",
    "ax.get_xaxis().set_ticks([24/bs, (3 * (4 * 4) * 8)/bs, (3 * (8 * 8) * 8)/bs, 1])\n",
    "ax.set_xticklabels(['{:.2f}%'.format(labs[i]) for i in range(4)])\n",
    "\n",
    "ax.get_yaxis().set_ticks([.4,.6, .8, 1])\n",
    "\n",
    "ax.set_xlabel('Model Size (% of Base Cache)')\n",
    "ax.set_ylabel('Accuracy')\n",
    "ax.set_ylim(0,1.05)\n",
    "ax.set_xlim(0,1.5)\n",
    "ax.text(x=labs[0]/100, y=.05, s='Fixed Rate', rotation=90, color='grey')\n",
    "ax.text(x=labs[1]/100, y=.05, s='Markov 4', rotation=90, color='grey')\n",
    "ax.text(x=labs[2]/100, y=.05, s='Markov 8', rotation=90, color='grey')\n",
    "ax.text(x=labs[3]/100, y=.05, s='Base', rotation=90, color='grey')\n",
    "\n",
    "ax.spines['top'].set_visible(False)\n",
    "ax.spines['right'].set_visible(False)\n",
    "\n",
    "ax.set_title('Points are Phase Numbers', size=10)\n",
    "fig.suptitle('Accuracy as a function of Model Size')\n",
    "\n",
    "#plt.savefig('plots/acc_vs_modelsize.svg')\n",
    "\n",
    "plt.show()"
   ]
  },
  {
   "cell_type": "code",
   "execution_count": 101,
   "metadata": {},
   "outputs": [
    {
     "data": {
      "text/markdown": [
       "\n",
       "## Locality Analysis\n",
       "\n",
       "Finally, we get to the hardest plot to generate, the locality plot. \n"
      ],
      "text/plain": [
       "<IPython.core.display.Markdown object>"
      ]
     },
     "metadata": {},
     "output_type": "display_data"
    }
   ],
   "source": [
    "%%markdown\n",
    "\n",
    "## Locality Analysis\n",
    "\n",
    "Finally, we get to the hardest plot to generate, the locality plot. "
   ]
  },
  {
   "cell_type": "code",
   "execution_count": 111,
   "metadata": {},
   "outputs": [],
   "source": [
    "def index(array, item):\n",
    "    for idx, val in enumerate(array):\n",
    "        if val == item:\n",
    "            return idx\n",
    "    return -1\n",
    "\n",
    "def rightshift(val: np.uint64, shift: np.uint64) -> np.uint64:\n",
    "    return val >> shift\n",
    "\n",
    "def reuse(trace, shift, outfile=None):\n",
    "    stack = np.array([], dtype=np.int64)\n",
    "    out = []\n",
    "    for i in tqdm(range(len(trace))):\n",
    "        addr = rightshift(trace[i], np.uint64(shift)) # Cache line\n",
    "        idx = index(stack, addr)\n",
    "        if idx == -1:\n",
    "            stack = np.insert(stack, 0, addr)\n",
    "        else:\n",
    "            out.append(idx)\n",
    "            stack = np.delete(stack, idx)\n",
    "            stack = np.insert(stack, 0, addr)\n",
    "\n",
    "    if outfile is not None:\n",
    "        save_object(out, outfile)\n",
    "        print('Wrote reuse trace to: {}'.format(outfile))\n",
    "        \n",
    "    return out\n"
   ]
  },
  {
   "cell_type": "code",
   "execution_count": 113,
   "metadata": {},
   "outputs": [
    {
     "name": "stderr",
     "output_type": "stream",
     "text": [
      "100%|██████████| 26515/26515 [00:07<00:00, 3328.31it/s]\n",
      "100%|██████████| 27694/27694 [00:02<00:00, 10488.76it/s]\n",
      "100%|██████████| 26426/26426 [00:02<00:00, 9462.64it/s] \n",
      "100%|██████████| 26080/26080 [00:03<00:00, 7609.16it/s]\n",
      "100%|██████████| 4826/4826 [00:02<00:00, 2337.25it/s]\n",
      "0it [00:00, ?it/s]\n",
      "100%|██████████| 10253/10253 [00:01<00:00, 6556.16it/s]\n",
      "100%|██████████| 10851/10851 [00:01<00:00, 6900.54it/s]\n",
      "100%|██████████| 38604/38604 [00:44<00:00, 863.72it/s] \n",
      "100%|██████████| 39157/39157 [00:15<00:00, 2585.33it/s]\n",
      "100%|██████████| 39890/39890 [00:15<00:00, 2531.24it/s]\n",
      "100%|██████████| 39154/39154 [00:40<00:00, 970.48it/s] \n",
      "100%|██████████| 27781/27781 [00:05<00:00, 4956.51it/s]\n",
      "100%|██████████| 29881/29881 [00:04<00:00, 6106.55it/s]\n",
      "100%|██████████| 29946/29946 [00:05<00:00, 5900.33it/s]\n",
      "100%|██████████| 30012/30012 [00:05<00:00, 5731.53it/s]\n",
      "100%|██████████| 33025/33025 [00:02<00:00, 15125.95it/s]\n",
      "100%|██████████| 33649/33649 [00:01<00:00, 27364.02it/s]\n",
      "100%|██████████| 32104/32104 [00:01<00:00, 21853.44it/s]\n",
      "100%|██████████| 36357/36357 [00:02<00:00, 17691.74it/s]\n"
     ]
    }
   ],
   "source": [
    "reuse_perphase_base    = {}\n",
    "reuse_perphase_approx  = {}\n",
    "reuse_perphase_markov4 = {}\n",
    "reuse_perphase_markov8 = {}\n",
    "gran=6\n",
    "\n",
    "def get_addrs(data, phase):\n",
    "    df = pd.DataFrame(data)\n",
    "    return np.array(df[df['phase']==phase]['addr'], dtype=np.uint64)\n",
    "\n",
    "for phase in range(0,5):\n",
    "    reuse_perphase_base[phase] = reuse(get_addrs(stats['base'].cache_trace[1], phase), gran)\n",
    "    reuse_perphase_approx[phase] = reuse(get_addrs(stats['fr'].cache_trace[1], phase), gran)\n",
    "    reuse_perphase_markov4[phase] = reuse(get_addrs(stats['m4'].cache_trace[1], phase), gran)\n",
    "    reuse_perphase_markov8[phase] = reuse(get_addrs(stats['m8'].cache_trace[1], phase), gran)"
   ]
  },
  {
   "cell_type": "code",
   "execution_count": 123,
   "metadata": {},
   "outputs": [
    {
     "data": {
      "image/png": "[encoded data removed]",
      "text/plain": [
       "<Figure size 576x576 with 20 Axes>"
      ]
     },
     "metadata": {
      "needs_background": "light"
     },
     "output_type": "display_data"
    }
   ],
   "source": [
    "binwidth=16\n",
    "#maxbin={1:50, 2:850, 3:225, 4:50}\n",
    "maxbin={0:200,1:200, 2:200, 3:200, 4:200}\n",
    "\n",
    "yl=45000\n",
    "ylim={0:yl,1:yl, 2:yl, 3:yl, 4:yl}\n",
    "\n",
    "\n",
    "def bins(data, binwidth, maxbin):\n",
    "    #return range(min(data), min(maxbin, max(data) + binwidth), binwidth)\n",
    "   # print(data)\n",
    "    return range(min(data), maxbin, binwidth)\n",
    "\n",
    "def plot(ax, data, title, phase):\n",
    "    if not data:\n",
    "        data = [1]\n",
    "    ax.hist(data, bins=bins(data, binwidth, maxbin=maxbin[phase]), color='black')\n",
    "    ax.set_ylim((0,ylim[phase]))\n",
    "    #ax.suptitle(title)\n",
    "    ax.spines['top'].set_visible(False)\n",
    "    ax.spines['right'].set_visible(False)\n",
    "    ax.spines['left'].set_visible(False)\n",
    "    ax.get_yaxis().set_ticks([])\n",
    "    if phase == 0:\n",
    "        ax.get_yaxis().set_ticks([30000])\n",
    "        ax.set_yticklabels(['30k'])\n",
    "    \n",
    "#plot(reuse_perphase_base[1], 'Base Cache', maxbin=maxbin[1])\n",
    "#plot(reuse_perphase_approx[1], 'Fixed Rate Cache', maxbin=maxbin[1])\n",
    "#plot(reuse_perphase_markov4[1], '4-State Markov Cache', maxbin=maxbin[1])\n",
    "#plot(reuse_perphase_markov8[1], '8-State Markov Cache', maxbin=maxbin[1])\n",
    "\n",
    "#i = 1\n",
    "\n",
    "fig, ax = plt.subplots(4, 5, figsize=(8,8))\n",
    "for i in range(5):\n",
    "    #phase = i+1\n",
    "    phase=i\n",
    "    \n",
    "    plot(ax[0,i], reuse_perphase_base[phase], 'Base Cache', phase)\n",
    "    plot(ax[1,i], reuse_perphase_approx[phase], 'Fixed Rate Cache', phase)\n",
    "    plot(ax[2,i], reuse_perphase_markov4[phase], '4-State Markov Cache', phase)\n",
    "    plot(ax[3,i], reuse_perphase_markov8[phase], '8-State Markov Cache', phase)\n",
    "\n",
    "#plt.savefig('plots/locality_per_phase.svg')\n",
    "plt.show()"
   ]
  },
  {
   "cell_type": "code",
   "execution_count": null,
   "metadata": {},
   "outputs": [],
   "source": []
  }
 ],
 "metadata": {
  "kernelspec": {
   "display_name": "Python [conda env:svecachesim_ipykernel_conda_env]",
   "language": "python",
   "name": "conda-env-svecachesim_ipykernel_conda_env-py"
  },
  "language_info": {
   "codemirror_mode": {
    "name": "ipython",
    "version": 3
   },
   "file_extension": ".py",
   "mimetype": "text/x-python",
   "name": "python",
   "nbconvert_exporter": "python",
   "pygments_lexer": "ipython3",
   "version": "3.8.5"
  }
 },
 "nbformat": 4,
 "nbformat_minor": 4
}
